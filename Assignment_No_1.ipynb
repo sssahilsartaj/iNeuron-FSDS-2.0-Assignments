{
  "nbformat": 4,
  "nbformat_minor": 0,
  "metadata": {
    "colab": {
      "provenance": [],
      "authorship_tag": "ABX9TyONkRTGSJCZQyKDCG5fRR1z",
      "include_colab_link": true
    },
    "kernelspec": {
      "name": "python3",
      "display_name": "Python 3"
    },
    "language_info": {
      "name": "python"
    }
  },
  "cells": [
    {
      "cell_type": "markdown",
      "metadata": {
        "id": "view-in-github",
        "colab_type": "text"
      },
      "source": [
        "<a href=\"https://colab.research.google.com/github/sssahilsartaj/iNeuron-FSDS-2.0-Assignments/blob/main/Assignment_No_1.ipynb\" target=\"_parent\"><img src=\"https://colab.research.google.com/assets/colab-badge.svg\" alt=\"Open In Colab\"/></a>"
      ]
    },
    {
      "cell_type": "markdown",
      "source": [
        "# FSDS 2.0 Live Assignment No. 1\n",
        "### Name: Sahil Sartaj\n",
        "### Email ID: sssahil1234@gmail.com\n",
        "### Date: 25th Sep, 2022"
      ],
      "metadata": {
        "id": "_4Ho9ztGOUpp"
      }
    },
    {
      "cell_type": "markdown",
      "source": [
        "## Q.1 Find out all the types of error that we have encountered in our lecture and why? Also include the examples."
      ],
      "metadata": {
        "id": "1rc-4xrURkC6"
      }
    },
    {
      "cell_type": "markdown",
      "source": [
        "Ans:\n",
        "\n",
        "In today's class we have encountered various kinds of topics such as - \n",
        "\n",
        "*   Variable Case senstivity\n",
        "*   Reserved words in Python\n",
        "*   Multi assignment of variables\n",
        "*   User input\n",
        "*   type casting | type conversion\n",
        "\n",
        "The types of error in each of this topic we mentioned below - \n",
        "\n",
        "**Variable Case senstivity**\n",
        "\n",
        "NameError\n",
        "\n",
        "Example: \n",
        "\n",
        "```\n",
        "a=10\n",
        "print(b)\n",
        "```\n",
        "\n",
        "**Reserved words in Python**\n",
        "\n",
        "TypeError\n",
        "\n",
        "Example:\n",
        "```\n",
        "# python lang doesn't restrict the user to use reserved keywords as variable names, but we should not use reserved keywords as var\n",
        "\n",
        "print = \"Hi\"\n",
        "type(print)\n",
        "# now if we use print function to print something it will show TypeError\n",
        "print(\"Hi Sahil\")\n",
        "# To recover the functionality of print we've to delete this print var\n",
        "del print\n",
        "```\n",
        "\n",
        "**Multi assignment of variables**\n",
        "\n",
        "TypeError\n",
        "\n",
        "Example\n",
        "```\n",
        "a,b,c=1\n",
        "\n",
        "Output: TypeError: cannot unpack non-iterable int object\n",
        "```\n",
        "\n",
        "**User input**\n",
        "\n",
        "TypeError\n",
        "\n",
        "Example\n",
        "```\n",
        "# calcualte the age of the user\n",
        "\n",
        "name = input(\"Name: \") # always gives you string values\n",
        "place = input(\"place: \")\n",
        "year_of_birth = input(\"year_of_birth: \")\n",
        "\n",
        "age = 2022 - year_of_birth\n",
        "\n",
        "print(f\"\"\"\n",
        "My name is: {name}\n",
        "I live at: {place}\n",
        "{name} is of age: {age}\n",
        "\"\"\")\n",
        "\n",
        "Output: TypeError: unsupported operand type(s) for -: 'int' and 'str'\n",
        "\n",
        "# Here we've to do type casting bcz input func always\n",
        "receive str and year is itself a int so we've to convert \n",
        "it into integer i.e. int(input(\"year_of_birth: \")\n",
        "```\n",
        "\n",
        "**type casting | type conversion**\n",
        "\n",
        "ValueError\n",
        "\n",
        "Example\n",
        "```\n",
        "A = float(input(\"Enter value of A: \"))\n",
        "B = int(input(\"Enter value of B: \"))\n",
        "\n",
        "print(f\"Sum of A and B is: {A+B}\")\n",
        "\n",
        "Output: ValueError: invalid literal for int() with base 10: '10.2'\n",
        "\n",
        "```\n"
      ],
      "metadata": {
        "id": "q4-pGb_0R6uU"
      }
    },
    {
      "cell_type": "markdown",
      "source": [
        "## Q.2 Take input A and B and print their sum, mul, div, square of the nos."
      ],
      "metadata": {
        "id": "XfdaZgeUaG4d"
      }
    },
    {
      "cell_type": "code",
      "execution_count": 18,
      "metadata": {
        "colab": {
          "base_uri": "https://localhost:8080/"
        },
        "id": "BACK0ODcKVye",
        "outputId": "9cf49976-890a-4397-c7c8-3de8de4d4cd1"
      },
      "outputs": [
        {
          "output_type": "stream",
          "name": "stdout",
          "text": [
            "Enter the value of A: 10\n",
            "Enter the value of B: 12\n",
            "\n",
            "The sum of A and B is 22.0\n",
            "The mul of A and B is 120.0\n",
            "The div of A and B is 0.8333333333333334\n",
            "The square of A is 100.0 and B is 144.0\n",
            "\n"
          ]
        }
      ],
      "source": [
        "A = float(input(\"Enter the value of A: \"))\n",
        "B = float(input(\"Enter the value of B: \"))\n",
        "\n",
        "print(f\"\"\"\n",
        "The sum of A and B is {A+B}\n",
        "The mul of A and B is {A*B}\n",
        "The div of A and B is {A/B}\n",
        "The square of A is {A**2} and B is {B**2}\n",
        "\"\"\")"
      ]
    },
    {
      "cell_type": "markdown",
      "source": [
        "## Q.3 How many reserve keywords are there in python and why we should not use them as a variable name."
      ],
      "metadata": {
        "id": "3fGvH7TibRm7"
      }
    },
    {
      "cell_type": "markdown",
      "source": [
        "Ans: \n",
        "\n",
        "There are 33 keywords in Python 3.\n",
        "\n",
        "The main reason we should not use reserved keywords as identifier because, they are used to define the syntax and structure of the Python language. These words have special meaning to the interpreter. Python lang doesn't restrict us to use reserved keywords as variable names but if we use them the meaning of that particular keyword got change. So it is always recommened to not use reserved keywords or we can say restricted as a programmer not to use reserved keyword as any of variable name assignment or function name."
      ],
      "metadata": {
        "id": "FG9gdk6HbYD3"
      }
    },
    {
      "cell_type": "markdown",
      "source": [
        "## Q.4 Create email ids with the user inputs. in the following format - lastname.firstname@gmail.com"
      ],
      "metadata": {
        "id": "C52sksj9eGH-"
      }
    },
    {
      "cell_type": "code",
      "source": [
        "firstName = input(\"Enter your first name: \")\n",
        "lastName = input(\"Enter your last name: \")\n",
        "\n",
        "print(f\"The recommended email Id for you is {lastName}.{firstName}@gmail.com\")"
      ],
      "metadata": {
        "colab": {
          "base_uri": "https://localhost:8080/"
        },
        "id": "s_2sYIUXUuYI",
        "outputId": "737f0a0f-be50-4df9-ff9b-d00b71a16a28"
      },
      "execution_count": 19,
      "outputs": [
        {
          "output_type": "stream",
          "name": "stdout",
          "text": [
            "Enter your first name: sahil\n",
            "Enter your last name: sartaj\n",
            "The recommended email Id for you is sartaj.sahil@gmail.com\n"
          ]
        }
      ]
    },
    {
      "cell_type": "markdown",
      "source": [
        "## Q.5 Try to print the following lines - \n",
        "  - Hi I'm Sunny\n",
        "  - My address is 22\\3 \n",
        "  - I earn 20$ daily."
      ],
      "metadata": {
        "id": "jcGVjhxKe2CL"
      }
    },
    {
      "cell_type": "code",
      "source": [
        "print(\"\"\"\n",
        "Hi I'm Sunny\n",
        "My address is 22\\\\3\n",
        "I earn 20$ daily.\n",
        "\"\"\")"
      ],
      "metadata": {
        "colab": {
          "base_uri": "https://localhost:8080/"
        },
        "id": "YTxEWdxRVGOe",
        "outputId": "6d6cb802-bfa3-47fc-e1db-9dc187d731c1"
      },
      "execution_count": 21,
      "outputs": [
        {
          "output_type": "stream",
          "name": "stdout",
          "text": [
            "\n",
            "Hi I'm Sunny\n",
            "My address is 22\\3\n",
            "I earn 20$ daily.\n",
            "\n"
          ]
        }
      ]
    },
    {
      "cell_type": "markdown",
      "source": [
        "## Q.6 Take user input (name, address, date of birth etc) to fill a form for your college and print their email IDs"
      ],
      "metadata": {
        "id": "jGQcmKl-e_iV"
      }
    },
    {
      "cell_type": "code",
      "source": [
        "name = input(\"Enter your name \")\n",
        "address = input(\"Enter your address \")\n",
        "doy = int(input(\"Enter your date of year \"))\n",
        "email = input(\"Enter your email id \")\n",
        "\n",
        "print(f\"\"\"\n",
        "Name: {name}\n",
        "Address: {address}\n",
        "Date of Year: {doy}\n",
        "Email ID: {email}\n",
        "\"\"\")"
      ],
      "metadata": {
        "colab": {
          "base_uri": "https://localhost:8080/"
        },
        "id": "0n_S2DOZfRnj",
        "outputId": "4adb4e36-ebb1-4128-c5cc-b44b18ed6111"
      },
      "execution_count": 24,
      "outputs": [
        {
          "output_type": "stream",
          "name": "stdout",
          "text": [
            "Enter your name Sahil Sartaj\n",
            "Enter your address bangalore\n",
            "Enter your date of year 2000\n",
            "Enter your email id sssahil1234@gmail.com\n",
            "\n",
            "Name: Sahil Sartaj\n",
            "Address: bangalore\n",
            "Date of Year: 2000\n",
            "Email ID: sssahil1234@gmail.com\n",
            "\n"
          ]
        }
      ]
    },
    {
      "cell_type": "markdown",
      "source": [
        "## Q.7 Convert the following - \n",
        "  - \"22.4\" into integer\n",
        "  - \"22\" into complex no."
      ],
      "metadata": {
        "id": "PMjtCgJPgR6h"
      }
    },
    {
      "cell_type": "code",
      "source": [
        "var_a = int(22.4)\n",
        "var_a"
      ],
      "metadata": {
        "colab": {
          "base_uri": "https://localhost:8080/"
        },
        "id": "NNoIWCzBgBK4",
        "outputId": "f6dbfbdb-67f8-49a6-9d92-3f3ccead1f2f"
      },
      "execution_count": 25,
      "outputs": [
        {
          "output_type": "execute_result",
          "data": {
            "text/plain": [
              "22"
            ]
          },
          "metadata": {},
          "execution_count": 25
        }
      ]
    },
    {
      "cell_type": "code",
      "source": [
        "complex = 22+0j\n",
        "print(complex.real)\n",
        "print(complex.imag)"
      ],
      "metadata": {
        "colab": {
          "base_uri": "https://localhost:8080/"
        },
        "id": "4DrJmMj9hPtY",
        "outputId": "774ced86-15b6-4c64-c597-c0549cc32a41"
      },
      "execution_count": 27,
      "outputs": [
        {
          "output_type": "stream",
          "name": "stdout",
          "text": [
            "22.0\n",
            "0.0\n"
          ]
        }
      ]
    },
    {
      "cell_type": "code",
      "source": [],
      "metadata": {
        "id": "hWrQ2AuSiD61"
      },
      "execution_count": null,
      "outputs": []
    }
  ]
}