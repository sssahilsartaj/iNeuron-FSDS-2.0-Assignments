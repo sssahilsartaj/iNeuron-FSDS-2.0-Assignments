{
 "cells": [
  {
   "cell_type": "markdown",
   "id": "fcd0eef4-5d63-4d04-ab99-d1aee99a481b",
   "metadata": {},
   "source": [
    "# 1. To what does a relative path refer?"
   ]
  },
  {
   "cell_type": "markdown",
   "id": "696f9612-f554-4d71-bb5c-f7600319b1f6",
   "metadata": {},
   "source": [
    "Ans:\\\n",
    "A relative path is a file or directory path that is expressed relative to the current working directory (PWD) of a program or a user's current location in a file system. It does not start from the root directory of the file system, but rather from the current directory or a directory that is relative to the current directory.\n",
    "\n",
    "For example: if absolute path to a file called `stuff.txt` is **C:/users/admin/docs/stuff.txt** and if my PWD is **C:/users/admin/**, then the relative path to `stuff.txt` would be **docs/stuff.txt** \n",
    "\n",
    "Note: **PWD + relative path = absolute path**"
   ]
  },
  {
   "cell_type": "markdown",
   "id": "83aa4eda-09be-4b0b-a3ff-6bb3a13a9d66",
   "metadata": {},
   "source": [
    "# 2. What does an absolute path start with your operating system?"
   ]
  },
  {
   "cell_type": "markdown",
   "id": "42ec3bd1-e751-48b8-a78d-af54c0d40975",
   "metadata": {},
   "source": [
    "Ans:\\\n",
    "In Linux based systems the absolute path starts with `/.` whereas in Windows based systems absolute path starts with `C:`"
   ]
  },
  {
   "cell_type": "markdown",
   "id": "7ffe1e50-cbf0-46f4-a4d0-08de5321cd40",
   "metadata": {},
   "source": [
    "# 3. What do the functions os.getcwd() and os.chdir() do?"
   ]
  },
  {
   "cell_type": "markdown",
   "id": "a6565023-10a1-4213-b913-bd856c880101",
   "metadata": {},
   "source": [
    "Ans:\\\n",
    "`os.getcwd()`: Gives current working directory. \\\n",
    "Example:\n",
    "```\n",
    "import os \n",
    "os.getcwd() # Gives current working directory\n",
    "```\n",
    "\n",
    "`os.chdir()`: Use for changing our working directory. \\\n",
    "Example: \n",
    "```\n",
    "os.chdir('C:\\Users\\ssartaj\\Downloads\\Resume\\Resume\\ATS Resume')\n",
    "# os.getcwd() # changed the working directory to C:\\Users\\ssartaj\\Downloads\\Resume\\Resume\\ATS Resume\n",
    "\n",
    "```"
   ]
  },
  {
   "cell_type": "markdown",
   "id": "e630da08-84c3-4d63-b8ec-78d40bc24ee4",
   "metadata": {},
   "source": [
    "# 4. What are the . and .. folders?"
   ]
  },
  {
   "cell_type": "markdown",
   "id": "591f985a-3bca-4cae-b809-4cdb9b06f97e",
   "metadata": {},
   "source": [
    "Ans:\\\n",
    "`.` represents the Current Directory,\n",
    "Whereas `..` represents the Parent Directory of the Current Directory.\n"
   ]
  },
  {
   "cell_type": "markdown",
   "id": "caa6356e-8592-4b10-ba21-c49189a15b7a",
   "metadata": {},
   "source": [
    "# 5. In C:\\bacon\\eggs\\spam.txt, which part is the dir name, and which part is the base name?"
   ]
  },
  {
   "cell_type": "markdown",
   "id": "f0e37c46-b10f-4fbb-b353-28e02e9050a5",
   "metadata": {},
   "source": [
    "Ans:\\\n",
    "In `C:\\bacon\\eggs\\spam.txt`: \\\n",
    "The Directory name: **C:\\bacon\\eggs**\\\n",
    "The base name: **spam.txt**"
   ]
  },
  {
   "cell_type": "markdown",
   "id": "5036ddb5-548e-4b84-8c80-ece66e145bfd",
   "metadata": {},
   "source": [
    "# 6. What are the three “mode” arguments that can be passed to the open() function?"
   ]
  },
  {
   "cell_type": "markdown",
   "id": "7d739fc8-9a93-4935-8500-8098dc0f8678",
   "metadata": {},
   "source": [
    "Ans:\\\n",
    "The three mode arguments that can be passed to the `open()` function in Python are:\n",
    "\n",
    "`\"r\"` - **read mode**: This is the default mode and it allows the file to be read.\n",
    "\n",
    "`\"w\"` - **write mode**: This mode allows the file to be written to. If the file already exists, the contents of the file will be overwritten. If the file does not exist, a new file will be created.\n",
    "\n",
    "`\"a\"` - **append mode**: This mode allows new data to be added to the end of an existing file. If the file does not exist, a new file will be created."
   ]
  },
  {
   "cell_type": "markdown",
   "id": "0faba3b5-22ce-4fa5-bc31-39e75a33706a",
   "metadata": {},
   "source": [
    "# 7. What happens if an existing file is opened in write mode?"
   ]
  },
  {
   "cell_type": "markdown",
   "id": "7ae05709-c3f2-4fee-9153-dc0fa73386b4",
   "metadata": {},
   "source": [
    "Ans:\\\n",
    "Using this mode will overwrite any existing content in a file. If the given file does not exist, a new one will be created."
   ]
  },
  {
   "cell_type": "markdown",
   "id": "4ae05d8d-6b93-4f1e-a2df-d92dd664e6f2",
   "metadata": {},
   "source": [
    "# 8. How do you tell the difference between read() and readlines()?"
   ]
  },
  {
   "cell_type": "markdown",
   "id": "3fe7a936-125f-4d94-982d-d5ad117780c9",
   "metadata": {},
   "source": [
    "Ans:\\\n",
    "`read()` returns the entire content of a file as a single string.\\\n",
    "`readlines()` returns a list of strings, where each string represents a single line of the file.\n"
   ]
  },
  {
   "cell_type": "markdown",
   "id": "57513389-389d-4f51-8fc2-f4aba13e9ed6",
   "metadata": {},
   "source": [
    "# 9. What data structure does a shelf value resemble?"
   ]
  },
  {
   "cell_type": "markdown",
   "id": "fefe2c41-1bf4-475a-aacc-ee103d890400",
   "metadata": {},
   "source": [
    "Ans:\\\n",
    "shelf is a persistent, dictionary-like object that is used to store key-value pairs on disk. A shelf value is similar to a dictionary in that it consists of key-value pairs, but it is stored as a binary file on disk rather than in memory."
   ]
  },
  {
   "cell_type": "markdown",
   "id": "48cce8b3-65e6-48d1-8769-852d261c6fcd",
   "metadata": {},
   "source": []
  }
 ],
 "metadata": {
  "kernelspec": {
   "display_name": "Python 3 (ipykernel)",
   "language": "python",
   "name": "python3"
  },
  "language_info": {
   "codemirror_mode": {
    "name": "ipython",
    "version": 3
   },
   "file_extension": ".py",
   "mimetype": "text/x-python",
   "name": "python",
   "nbconvert_exporter": "python",
   "pygments_lexer": "ipython3",
   "version": "3.10.6"
  }
 },
 "nbformat": 4,
 "nbformat_minor": 5
}
