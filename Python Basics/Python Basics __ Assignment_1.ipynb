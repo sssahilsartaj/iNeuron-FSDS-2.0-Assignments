{
 "cells": [
  {
   "cell_type": "markdown",
   "id": "0797c0db-8a6a-4c54-8f5b-864f0a1f5da9",
   "metadata": {},
   "source": [
    "### **1. In the below elements which of them are values or an expression? eg:- values can be integer or string and expressions will be mathematical operators.**\n",
    "\n",
    "\\*\n",
    "\n",
    "\\'hello'\n",
    "\n",
    "-87.8\n",
    "\n",
    "\\- \n",
    "\n",
    "/ \n",
    "\n",
    "\\+\n",
    "\n",
    "6 "
   ]
  },
  {
   "cell_type": "markdown",
   "id": "10d6ff03-f4bf-44f2-ac8d-43f1d14546e1",
   "metadata": {},
   "source": [
    "**Answer:**\n",
    "\n",
    "According to the above question the values and expression are as follows:\n",
    "    \n",
    "    Values: 'hello', -87.8, 6\n",
    "    \n",
    "    Expressions: *, -, /, +"
   ]
  },
  {
   "cell_type": "markdown",
   "id": "ec7a9b03-d6b7-4bf4-898f-b6b53833e5f5",
   "metadata": {},
   "source": [
    "### **2. What is the difference between string and variable?**"
   ]
  },
  {
   "cell_type": "markdown",
   "id": "c130f8d0-7205-4d10-bb26-caa2ba9d90b7",
   "metadata": {},
   "source": [
    "**Answer:**\n",
    "\n",
    "| ** Variable**                                     | **String**                                     |\n",
    "|---------------------------------------------------|------------------------------------------------|\n",
    "| A variable is something that can contain a value. | A string is one of many types of values.       |\n",
    "| To declair Variable '=' sign is used.             | Strings are enclosed in Single/ Double Quotes. |\n"
   ]
  },
  {
   "cell_type": "markdown",
   "id": "87f68671-4411-49b3-8921-bc6d3414a63c",
   "metadata": {},
   "source": [
    "### **3. Describe three different data types.**"
   ]
  },
  {
   "cell_type": "markdown",
   "id": "65754a13-062c-4f63-a211-d7d6ac708dee",
   "metadata": {},
   "source": [
    "**Answer:**\n",
    "\n",
    "1. **Strings:** It is one such data type which contain sequence of characters. Generally, strings are represented by either single ('') or double-quotes (\"\"). \n",
    "\n",
    "    Example, \n",
    "        \n",
    "        a = \"I am a Coder\"\n",
    "        b= 'I am a Coder'\n",
    "    \n",
    "    \n",
    "2. **List:** In Python, Lists can be considered as the most general version of a \"sequence\". Unlike strings, they are mutable which means the elements inside a list can be changed!\n",
    "\n",
    "    `Lists` are constructed with brackets `[]` and commas separating every element in the list.\n",
    "\n",
    "\n",
    "    *   List is one of the Sequence Data Structure\n",
    "    *   List are collection of items (Strings, integers, or even other lists)\n",
    "\n",
    "    *   List are enclosed in [ ]\n",
    "    *   Each item in the list has an assigned index value\n",
    "\n",
    "    *   Each item in a list is separated by a comma (,)\n",
    "    *   Lists are *mutable*, which means they can be changed.\n",
    "\n",
    "3. **Dictionary:** Python dictionary is an unordered (cannot index) collection of items. While other compound data types have only value as an element, a dictionary has a ***key: value*** pair.\n",
    "\n",
    "    Note: Tuple and List are Ordered DS but Sets and Dictionary are Unordered DS.\n",
    "\n",
    "    *   We put { } to represent Dictionaries.\n",
    "\n",
    "    *   We have to use **:** to differentiate key and value pair inside { } "
   ]
  },
  {
   "cell_type": "markdown",
   "id": "447126ef-ab94-4226-abcc-47bfe7bb843b",
   "metadata": {},
   "source": [
    "### **4. What is an expression made up of? What do all expressions do?**"
   ]
  },
  {
   "cell_type": "markdown",
   "id": "f303edf2-d7d7-4fc3-8917-059646844df8",
   "metadata": {},
   "source": [
    "**Answer:**\n",
    "\n",
    "An Expression is an combination of operators and operands. which produces another value after the expression is evaluated."
   ]
  },
  {
   "cell_type": "code",
   "execution_count": 10,
   "id": "a2b250d3-29b2-4b5e-8f9f-55a521382be9",
   "metadata": {},
   "outputs": [
    {
     "name": "stdout",
     "output_type": "stream",
     "text": [
      "30\n"
     ]
    }
   ],
   "source": [
    "a = 21 \n",
    "b = 9\n",
    "c = a + b # this is an expression.\n",
    "# Note: + is an operator while a and b are operands\n",
    "print(c) # which give another value after expression is evaluated."
   ]
  },
  {
   "cell_type": "markdown",
   "id": "1c8811ed-cc41-4c24-a691-792b2bfce5a0",
   "metadata": {},
   "source": [
    "### **5. This assignment statements, like spam = 10. What is the difference between an expression and a statement?**"
   ]
  },
  {
   "cell_type": "markdown",
   "id": "6f44f681-1f8c-4adf-89e0-e2032e5cd39d",
   "metadata": {},
   "source": [
    "**Answer:**\n",
    "\n",
    "A statement can be a single or multiple line of code that will be executed when we run our code like assignment statement, function or class statement or control flow statement.\n",
    "\n",
    "On the other hand, an expression is the part of the statement containing operators and operands, after execution they give us another value as a result.\n",
    "\n",
    "Example:\n",
    "    \n",
    "    spam = 10 is assignment statement \n",
    "    \n",
    "    spam = 10 * 8 where 10 * 8 is an expression."
   ]
  },
  {
   "cell_type": "markdown",
   "id": "4c5db237-93f2-4af3-8c15-0b22940579c4",
   "metadata": {},
   "source": [
    "### **6. After running the following code, what does the variable bacon contain?**\n",
    "    bacon = 22\n",
    "\n",
    "    bacon + 1\n"
   ]
  },
  {
   "cell_type": "code",
   "execution_count": 11,
   "id": "0b10c4ed-76f3-4dc4-8f68-2f81d360baab",
   "metadata": {},
   "outputs": [
    {
     "name": "stdout",
     "output_type": "stream",
     "text": [
      "22\n"
     ]
    }
   ],
   "source": [
    "bacon = 22\n",
    "bacon+1\n",
    "print(bacon)"
   ]
  },
  {
   "cell_type": "markdown",
   "id": "599353e6-b525-49e7-b347-6bbed0fd32b0",
   "metadata": {},
   "source": [
    "The variable bacon contain 22 because, in the code we are not assigning the bacon+1 to any variable. The addition value is not stored in any memory so we get the output of the bacon variable as 22."
   ]
  },
  {
   "cell_type": "markdown",
   "id": "7b97dc0f-8921-4d3f-b345-62aeced41ec4",
   "metadata": {},
   "source": [
    "### **7. What should the values of the following two terms be?**\n",
    "    'spam' + 'spamspam'\n",
    "\n",
    "    'spam' * 3\n"
   ]
  },
  {
   "cell_type": "code",
   "execution_count": 12,
   "id": "dd005625-a3b9-4a3e-a456-6d8b58d22e0d",
   "metadata": {},
   "outputs": [
    {
     "data": {
      "text/plain": [
       "'spamspamspam'"
      ]
     },
     "execution_count": 12,
     "metadata": {},
     "output_type": "execute_result"
    }
   ],
   "source": [
    "'spam'+'spamspam'"
   ]
  },
  {
   "cell_type": "code",
   "execution_count": 13,
   "id": "243e7aba-62ae-42a7-88b0-a1d015c4879e",
   "metadata": {},
   "outputs": [
    {
     "data": {
      "text/plain": [
       "'spamspamspam'"
      ]
     },
     "execution_count": 13,
     "metadata": {},
     "output_type": "execute_result"
    }
   ],
   "source": [
    "'spam'*3"
   ]
  },
  {
   "cell_type": "markdown",
   "id": "36840138-76e4-4824-97d6-d23208afb539",
   "metadata": {},
   "source": [
    "### **8. Why is eggs a valid variable name while 100 is invalid?**"
   ]
  },
  {
   "cell_type": "markdown",
   "id": "bcc3c263-8796-42dd-adb3-79ad2c82cf0d",
   "metadata": {},
   "source": [
    "**Answer:**\n",
    "\n",
    "We can use eggs name as a valid variable name but we can't use 100 as a valid variable name because,\n",
    "\n",
    "In Python we have some rules to follow for to create a variable:\n",
    "\n",
    "        * Variable name can not start with numerical characters.\n",
    "        * variable name are case sensitive.\n",
    "        * variable only contains alphanumeric characters and underscores.\n",
    "Let's take an practical example to understand it more clearly."
   ]
  },
  {
   "cell_type": "code",
   "execution_count": 14,
   "id": "f2731b8e-5b44-417d-bfca-aadb79912fb8",
   "metadata": {},
   "outputs": [
    {
     "data": {
      "text/plain": [
       "100"
      ]
     },
     "execution_count": 14,
     "metadata": {},
     "output_type": "execute_result"
    }
   ],
   "source": [
    "eggs = 100\n",
    "eggs"
   ]
  },
  {
   "cell_type": "code",
   "execution_count": 15,
   "id": "13318dd3-10a5-4d26-aee2-0b8f3ffe84bc",
   "metadata": {},
   "outputs": [
    {
     "ename": "SyntaxError",
     "evalue": "cannot assign to literal here. Maybe you meant '==' instead of '='? (3035627526.py, line 1)",
     "output_type": "error",
     "traceback": [
      "\u001b[0;36m  Cell \u001b[0;32mIn [15], line 1\u001b[0;36m\u001b[0m\n\u001b[0;31m    100 = 101\u001b[0m\n\u001b[0m    ^\u001b[0m\n\u001b[0;31mSyntaxError\u001b[0m\u001b[0;31m:\u001b[0m cannot assign to literal here. Maybe you meant '==' instead of '='?\n"
     ]
    }
   ],
   "source": [
    "100 = 101\n",
    "100"
   ]
  },
  {
   "cell_type": "markdown",
   "id": "26859ca9-cba3-4fb0-a787-5bf4ac941bda",
   "metadata": {},
   "source": [
    "It clearly shows that it is a SyntaxError and we can't assign to a literal."
   ]
  },
  {
   "cell_type": "markdown",
   "id": "3f53295b-499b-4530-8d59-4a61b0c0f00a",
   "metadata": {},
   "source": [
    "### **9. What three functions can be used to get the integer, floating-point number, or string version of a value?**"
   ]
  },
  {
   "cell_type": "code",
   "execution_count": 16,
   "id": "c3a147e2-bfef-458c-9eaf-5f0ee278b876",
   "metadata": {},
   "outputs": [
    {
     "name": "stdout",
     "output_type": "stream",
     "text": [
      "<class 'str'>\n"
     ]
    },
    {
     "data": {
      "text/plain": [
       "int"
      ]
     },
     "execution_count": 16,
     "metadata": {},
     "output_type": "execute_result"
    }
   ],
   "source": [
    "# We can get this values by doing type casting.\n",
    "x = '10'\n",
    "print(type(x))\n",
    "# type casting it to integer\n",
    "x = int(x)\n",
    "type(x)"
   ]
  },
  {
   "cell_type": "code",
   "execution_count": 17,
   "id": "443dd25b-f226-4248-ae1d-3004e9c87f90",
   "metadata": {},
   "outputs": [
    {
     "name": "stdout",
     "output_type": "stream",
     "text": [
      "<class 'str'>\n"
     ]
    },
    {
     "data": {
      "text/plain": [
       "float"
      ]
     },
     "execution_count": 17,
     "metadata": {},
     "output_type": "execute_result"
    }
   ],
   "source": [
    "x = '10.6'\n",
    "print(type(x))\n",
    "# type casting it to float.\n",
    "x = float(x)\n",
    "type(x)"
   ]
  },
  {
   "cell_type": "code",
   "execution_count": 18,
   "id": "87cf46a8-8844-43e6-aa08-77eb9ac85d60",
   "metadata": {},
   "outputs": [
    {
     "name": "stdout",
     "output_type": "stream",
     "text": [
      "<class 'int'>\n"
     ]
    },
    {
     "data": {
      "text/plain": [
       "str"
      ]
     },
     "execution_count": 18,
     "metadata": {},
     "output_type": "execute_result"
    }
   ],
   "source": [
    "x = 100\n",
    "print(type(x))\n",
    "# type casting it to string\n",
    "x = str(x)\n",
    "type(x)"
   ]
  },
  {
   "cell_type": "markdown",
   "id": "1eee7d92-e825-4602-a560-e32658a8da71",
   "metadata": {},
   "source": [
    "So we can use type casting to change the type of the variable.\n",
    "`\n",
    " int()\n",
    " float()\n",
    " str()\n",
    "`\n",
    "by using above three type casting functions we can get the desired result."
   ]
  },
  {
   "cell_type": "markdown",
   "id": "d91afc72-70c5-4130-984a-8a330971cd6e",
   "metadata": {},
   "source": [
    "### **10. Why does this expression cause an error? How can you fix it?**\n",
    "'I have eaten ' + 99 + ' burritos.'\n"
   ]
  },
  {
   "cell_type": "code",
   "execution_count": 19,
   "id": "fd22ed07-1b6e-4981-9837-3e195bad882d",
   "metadata": {},
   "outputs": [
    {
     "ename": "TypeError",
     "evalue": "can only concatenate str (not \"int\") to str",
     "output_type": "error",
     "traceback": [
      "\u001b[0;31m---------------------------------------------------------------------------\u001b[0m",
      "\u001b[0;31mTypeError\u001b[0m                                 Traceback (most recent call last)",
      "Cell \u001b[0;32mIn [19], line 1\u001b[0m\n\u001b[0;32m----> 1\u001b[0m \u001b[38;5;124;43m'\u001b[39;49m\u001b[38;5;124;43mI have eaten \u001b[39;49m\u001b[38;5;124;43m'\u001b[39;49m\u001b[43m \u001b[49m\u001b[38;5;241;43m+\u001b[39;49m\u001b[43m \u001b[49m\u001b[38;5;241;43m99\u001b[39;49m \u001b[38;5;241m+\u001b[39m \u001b[38;5;124m'\u001b[39m\u001b[38;5;124m burritos.\u001b[39m\u001b[38;5;124m'\u001b[39m\n",
      "\u001b[0;31mTypeError\u001b[0m: can only concatenate str (not \"int\") to str"
     ]
    }
   ],
   "source": [
    "'I have eaten ' + 99 + ' burritos.'"
   ]
  },
  {
   "cell_type": "markdown",
   "id": "5153fac3-9bd7-49f7-9f46-4bdef14085ed",
   "metadata": {},
   "source": [
    "As we are getting this **Type error** that says we can't concatenate integer with string. So if we enclose 99 which is int by using quotes it will become str hence we can successfully concatenate all 3 strings."
   ]
  },
  {
   "cell_type": "code",
   "execution_count": 20,
   "id": "7e2e52a9-ed61-455c-bac8-c12c31aa8b8d",
   "metadata": {},
   "outputs": [
    {
     "data": {
      "text/plain": [
       "'I have eaten  99 burritos.'"
      ]
     },
     "execution_count": 20,
     "metadata": {},
     "output_type": "execute_result"
    }
   ],
   "source": [
    "'I have eaten ' + ' 99' + ' burritos.'"
   ]
  },
  {
   "cell_type": "code",
   "execution_count": null,
   "id": "f9a262ab-f8d5-41da-a0e2-3e90393e86a1",
   "metadata": {},
   "outputs": [],
   "source": []
  }
 ],
 "metadata": {
  "kernelspec": {
   "display_name": "Python 3 (ipykernel)",
   "language": "python",
   "name": "python3"
  },
  "language_info": {
   "codemirror_mode": {
    "name": "ipython",
    "version": 3
   },
   "file_extension": ".py",
   "mimetype": "text/x-python",
   "name": "python",
   "nbconvert_exporter": "python",
   "pygments_lexer": "ipython3",
   "version": "3.10.6"
  }
 },
 "nbformat": 4,
 "nbformat_minor": 5
}
