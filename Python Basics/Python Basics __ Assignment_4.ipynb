{
 "cells": [
  {
   "cell_type": "markdown",
   "id": "01ad127f-8427-4f9f-aaaa-b77c055709c8",
   "metadata": {},
   "source": [
    "### 1. What exactly is []?"
   ]
  },
  {
   "cell_type": "markdown",
   "id": "bbd94346-ab76-4244-befa-43664853d09d",
   "metadata": {},
   "source": [
    "**Answer:**\n",
    "\n",
    "**[]** is exactly the square brackets.\n",
    "\n",
    "In Python language the use of this `[]` is to create **list**. We can create an empty list using this [] in python.\n",
    "\n",
    "Example:"
   ]
  },
  {
   "cell_type": "code",
   "execution_count": 37,
   "id": "ff1876fb-7630-4186-b3e0-be59854b72e4",
   "metadata": {},
   "outputs": [
    {
     "name": "stdout",
     "output_type": "stream",
     "text": [
      "[0, 1, 2, 3, 4]\n"
     ]
    }
   ],
   "source": [
    "temp_list = [] # empty list\n",
    "\n",
    "for i in range(5):\n",
    "    temp_list.append(i)\n",
    "    \n",
    "print(temp_list) # list of [0, 1, 2, 3, 4] items"
   ]
  },
  {
   "cell_type": "markdown",
   "id": "1f3d3514-af03-4cfc-a7f2-4fa8fbc50f58",
   "metadata": {},
   "source": [
    "### 2. In a list of values stored in a variable called spam, how would you assign the value 'hello' as the third value? (Assume [2, 4, 6, 8, 10] are in spam.)"
   ]
  },
  {
   "cell_type": "markdown",
   "id": "1859465e-9254-4611-a431-dd18366e7ea3",
   "metadata": {},
   "source": [
    "**Answer:**\n",
    "\n",
    "We can do the list indexing for this case."
   ]
  },
  {
   "cell_type": "code",
   "execution_count": 38,
   "id": "ab316814-23bf-48ec-9ebe-318ef3e27c56",
   "metadata": {},
   "outputs": [
    {
     "data": {
      "text/plain": [
       "[2, 4, 'hello', 8, 10]"
      ]
     },
     "execution_count": 38,
     "metadata": {},
     "output_type": "execute_result"
    }
   ],
   "source": [
    "spam = [2, 4, 6, 8, 10]\n",
    "\n",
    "spam[2] = \"hello\" #indexing\n",
    "\n",
    "spam # 'hello' value as the third value"
   ]
  },
  {
   "cell_type": "markdown",
   "id": "2b7333ca-ae71-44ef-acf2-8ebf8a2c7aab",
   "metadata": {},
   "source": [
    "### Let's pretend the spam includes the list ['a', 'b', 'c', 'd'] for the next three queries.\n",
    "3. What is the value of spam[int(int('3' * 2) / 11)]?\n",
    "4. What is the value of spam[-1]?\n",
    "5. What is the value of spam[:2]?\n"
   ]
  },
  {
   "cell_type": "markdown",
   "id": "479fcc7e-b81f-4723-bedb-b9853a10dee9",
   "metadata": {},
   "source": [
    "**Answer:**\n",
    "\n",
    "**3. What is the value of spam[int(int('3' * 2) / 11)]?**"
   ]
  },
  {
   "cell_type": "code",
   "execution_count": 39,
   "id": "9efd4f4d-cf12-4d57-880f-3ca54410eb0e",
   "metadata": {},
   "outputs": [
    {
     "data": {
      "text/plain": [
       "'d'"
      ]
     },
     "execution_count": 39,
     "metadata": {},
     "output_type": "execute_result"
    }
   ],
   "source": [
    "spam = ['a', 'b', 'c', 'd']\n",
    "spam[int(int('3'*2)/11)]"
   ]
  },
  {
   "cell_type": "markdown",
   "id": "58ed3916-791e-4672-84ee-309c29184c05",
   "metadata": {},
   "source": [
    "**Answer:**\n",
    "\n",
    "**4. What is the value of spam[-1]?**"
   ]
  },
  {
   "cell_type": "code",
   "execution_count": 40,
   "id": "17e98814-b064-4c97-980d-6e3011a6eba5",
   "metadata": {},
   "outputs": [
    {
     "data": {
      "text/plain": [
       "'d'"
      ]
     },
     "execution_count": 40,
     "metadata": {},
     "output_type": "execute_result"
    }
   ],
   "source": [
    "spam = ['a', 'b', 'c', 'd']\n",
    "spam[-1]"
   ]
  },
  {
   "cell_type": "markdown",
   "id": "0037a042-5c56-490f-bc16-0bce0faa3f92",
   "metadata": {},
   "source": [
    "**Answer:**\n",
    "\n",
    "**5. What is the value of spam[:2]?**"
   ]
  },
  {
   "cell_type": "code",
   "execution_count": 41,
   "id": "da5be767-2f6d-4020-997c-354d36eed1a2",
   "metadata": {},
   "outputs": [
    {
     "data": {
      "text/plain": [
       "['a', 'b']"
      ]
     },
     "execution_count": 41,
     "metadata": {},
     "output_type": "execute_result"
    }
   ],
   "source": [
    "spam = ['a', 'b', 'c', 'd']\n",
    "spam[:2]"
   ]
  },
  {
   "cell_type": "markdown",
   "id": "13cfd073-dc51-4f96-824f-15b58c312d4b",
   "metadata": {},
   "source": [
    "### Let's pretend bacon has the list [3.14, 'cat,' 11, 'cat,' True] for the next three questions.\n",
    "6. What is the value of bacon.index('cat')?\n",
    "7. How does bacon.append(99) change the look of the list value in bacon?\n",
    "8. How does bacon.remove('cat') change the look of the list in bacon?\n",
    "\n",
    "\n",
    "**Note:** Acc to the question it gives SyntaxError because of the 'cat,' it has to be 'cat',. So I change this and do according to that."
   ]
  },
  {
   "cell_type": "markdown",
   "id": "edef6ae4-4490-469b-946f-4dbbf5d7513d",
   "metadata": {},
   "source": [
    "**Answer:**\n",
    "\n",
    "**6. What is the value of bacon.index('cat')?**"
   ]
  },
  {
   "cell_type": "code",
   "execution_count": 42,
   "id": "f5958a15-4494-4a2a-b234-942bc2517a8a",
   "metadata": {},
   "outputs": [
    {
     "data": {
      "text/plain": [
       "1"
      ]
     },
     "execution_count": 42,
     "metadata": {},
     "output_type": "execute_result"
    }
   ],
   "source": [
    "bacon = [3.14, 'cat', 11, 'cat', True]\n",
    "bacon.index('cat')"
   ]
  },
  {
   "cell_type": "markdown",
   "id": "89310064-e3b5-4e43-916e-e4f077da325c",
   "metadata": {},
   "source": [
    "**Answer:**\n",
    "\n",
    "**7. How does bacon.append(99) change the look of the list value in bacon?**"
   ]
  },
  {
   "cell_type": "code",
   "execution_count": 43,
   "id": "03187d80-ca29-4313-b0bd-7330d7a28ce5",
   "metadata": {},
   "outputs": [
    {
     "data": {
      "text/plain": [
       "[3.14, 'cat', 11, 'cat', True, 99]"
      ]
     },
     "execution_count": 43,
     "metadata": {},
     "output_type": "execute_result"
    }
   ],
   "source": [
    "bacon = [3.14, 'cat', 11, 'cat', True]\n",
    "bacon.append(99)\n",
    "bacon"
   ]
  },
  {
   "cell_type": "markdown",
   "id": "0e9b0e84-dfc1-4626-9383-f12ecee4e459",
   "metadata": {},
   "source": [
    "**Answer:**\n",
    "\n",
    "**8. How does bacon.remove('cat') change the look of the list in bacon?**"
   ]
  },
  {
   "cell_type": "code",
   "execution_count": 44,
   "id": "5fc5d9a5-22b2-4fe4-9d5c-f7309b268ee3",
   "metadata": {},
   "outputs": [
    {
     "data": {
      "text/plain": [
       "[3.14, 11, 'cat', True]"
      ]
     },
     "execution_count": 44,
     "metadata": {},
     "output_type": "execute_result"
    }
   ],
   "source": [
    "bacon = [3.14, 'cat', 11, 'cat', True]\n",
    "bacon.remove('cat')\n",
    "bacon"
   ]
  },
  {
   "cell_type": "markdown",
   "id": "5ba00459-6224-4450-90e2-50cbd7cef228",
   "metadata": {},
   "source": [
    "### 9. What are the list concatenation and list replication operators?"
   ]
  },
  {
   "cell_type": "markdown",
   "id": "eac26b53-23b3-4984-a247-674cefd67d5d",
   "metadata": {},
   "source": [
    "**Answer:**\n",
    "\n",
    "* The list concatenation operator for list is **+**,\n",
    "\n",
    "* The list replication operator list is **\\***.\n",
    "\n",
    "Example"
   ]
  },
  {
   "cell_type": "code",
   "execution_count": 45,
   "id": "ec752ffa-7be3-49a6-9813-157e87f9b58d",
   "metadata": {},
   "outputs": [
    {
     "name": "stdout",
     "output_type": "stream",
     "text": [
      "[1, 2, 3, 7, 8, 9, 10]\n"
     ]
    }
   ],
   "source": [
    "# list concatenation\n",
    "\n",
    "list1 = [1, 2, 3]\n",
    "list2 = [7, 8, 9, 10]\n",
    "\n",
    "print(list1 + list2)"
   ]
  },
  {
   "cell_type": "code",
   "execution_count": 46,
   "id": "b685f710-5d21-4795-9819-70eca68cbb9a",
   "metadata": {},
   "outputs": [
    {
     "data": {
      "text/plain": [
       "[1, 2, 3, 1, 2, 3, 1, 2, 3]"
      ]
     },
     "execution_count": 46,
     "metadata": {},
     "output_type": "execute_result"
    }
   ],
   "source": [
    "# list replication\n",
    "\n",
    "list1 * 3"
   ]
  },
  {
   "cell_type": "markdown",
   "id": "f3177420-3973-4f4b-be09-becad426c071",
   "metadata": {},
   "source": [
    "### 10. What is difference between the list methods append() and insert()?"
   ]
  },
  {
   "cell_type": "markdown",
   "id": "f951d1c7-25c2-4b95-a493-983e5bd07601",
   "metadata": {},
   "source": [
    "**Answer:**\n",
    "\n",
    " append() | insert() \n",
    "---|---\n",
    " Element adds at the end of the list\t. | Element adds at a given index. \n",
    " Example: takes one arg as (element) | Example: takes two arg as (index, element)\t \n",
    "\n",
    "Example"
   ]
  },
  {
   "cell_type": "code",
   "execution_count": 47,
   "id": "79958efa-91b0-41d5-a87e-627e668b4cd0",
   "metadata": {},
   "outputs": [
    {
     "name": "stdout",
     "output_type": "stream",
     "text": [
      "[1, 2, 3, 4]\n"
     ]
    }
   ],
   "source": [
    "# append() example\n",
    "\n",
    "list_temp = [1, 2, 3]\n",
    "list_temp.append(4) # append(element)\n",
    "print(list_temp)"
   ]
  },
  {
   "cell_type": "code",
   "execution_count": 48,
   "id": "dbefc5c0-d5e8-4433-8066-032f2684800b",
   "metadata": {},
   "outputs": [
    {
     "name": "stdout",
     "output_type": "stream",
     "text": [
      "[1, 2, 3, 5]\n"
     ]
    }
   ],
   "source": [
    "# inser() example \n",
    "\n",
    "list_temp = [1, 2, 3]\n",
    "list_temp.insert(3, 5) # insert(index, element)\n",
    "print(list_temp)"
   ]
  },
  {
   "cell_type": "markdown",
   "id": "7312c93e-d323-4253-8cd3-e426fccf2c7f",
   "metadata": {},
   "source": [
    "### 11. What are the two methods for removing items from a list?"
   ]
  },
  {
   "cell_type": "markdown",
   "id": "80f8760f-04cb-4cf2-866f-d54c754b6153",
   "metadata": {},
   "source": [
    "**Answer:**\n",
    "\n",
    "Methods for removing items from a list are, `remove()` and `pop()`."
   ]
  },
  {
   "cell_type": "markdown",
   "id": "d50b6eb5-af7c-4bb6-8ed1-a955e7666f3e",
   "metadata": {},
   "source": [
    "### 12. Describe how list values and string values are identical."
   ]
  },
  {
   "cell_type": "markdown",
   "id": "f5405380-e122-48fc-9b14-6cdea6ab643d",
   "metadata": {},
   "source": [
    "**Answer:**\n",
    "\n",
    "list values and string values are identical in the below cases,\n",
    "\n",
    "* We can use indexing for both strings and lists to get specific value at specific index.\n",
    "\n",
    "* We can use check equality in both strings as well as in lists by using `==` operator for values.\n",
    "\n",
    "* We can iterate both the strings and lists values using the for loop.\n"
   ]
  },
  {
   "cell_type": "markdown",
   "id": "61bd08b5-392c-41b4-aac3-ed55b4bfdd08",
   "metadata": {},
   "source": [
    "### 13. What's the difference between tuples and lists?"
   ]
  },
  {
   "cell_type": "markdown",
   "id": "22237437-ef7a-4646-af87-3fe3cc3ce48f",
   "metadata": {},
   "source": [
    "**Answer:**\n",
    "\n",
    "| **list**                                                                      | **tuple**                                                  |\n",
    "|-------------------------------------------------------------------------------|------------------------------------------------------------|\n",
    "| Lists are mutable.                                                            | Tuples are immutable.                                      |\n",
    "| The list is better for performing operations, such as insertion and deletion. | Tuple data type is appropriate for accessing the elements. |\n",
    "| Lists consume more memory.                                                    | Tuple consumes less memory as compared to the list.        |\n",
    "| We create lists using [].                                                     | We create tuples using parenthesis ().                     |\n"
   ]
  },
  {
   "cell_type": "markdown",
   "id": "e64b6063-b917-4e3d-b053-13fc2d2842e1",
   "metadata": {},
   "source": [
    "### 14. How do you type a tuple value that only contains the integer 42?"
   ]
  },
  {
   "cell_type": "markdown",
   "id": "4898f7bd-d2a9-425a-baf0-00c7858247f1",
   "metadata": {},
   "source": [
    "**Answer:**"
   ]
  },
  {
   "cell_type": "code",
   "execution_count": 49,
   "id": "1f538615-3a6b-4681-86c3-3f2422b85384",
   "metadata": {},
   "outputs": [
    {
     "name": "stdout",
     "output_type": "stream",
     "text": [
      "<class 'tuple'>\n"
     ]
    }
   ],
   "source": [
    "tuple1 = (42, )\n",
    "print(type(tuple1))"
   ]
  },
  {
   "cell_type": "markdown",
   "id": "2f1073ee-4e57-402f-8ea9-2e8db0462d02",
   "metadata": {},
   "source": [
    "### 15. How do you get a list value's tuple form? How do you get a tuple value's list form?"
   ]
  },
  {
   "cell_type": "markdown",
   "id": "d87f06c9-5dc0-4968-8978-b1f058804860",
   "metadata": {},
   "source": [
    "**Answer:**\n",
    "\n",
    "By using **type casting** we can convert list into tuple vice versa.\n",
    "\n",
    "Example,"
   ]
  },
  {
   "cell_type": "code",
   "execution_count": 50,
   "id": "cfaa3fe1-2dd6-43d6-9a5a-f1153d6b44cb",
   "metadata": {},
   "outputs": [
    {
     "name": "stdout",
     "output_type": "stream",
     "text": [
      "(1, 2, 3)\n",
      "<class 'tuple'>\n"
     ]
    }
   ],
   "source": [
    "list_temp = [1, 2, 3]\n",
    "tuple_temp = tuple(list_temp) # type casting to tuple from list\n",
    "\n",
    "print(tuple_temp)\n",
    "print(type(tuple_temp))"
   ]
  },
  {
   "cell_type": "code",
   "execution_count": 51,
   "id": "c6e14472-06f4-4748-98b4-1d6e9994f85f",
   "metadata": {},
   "outputs": [
    {
     "name": "stdout",
     "output_type": "stream",
     "text": [
      "[1, 2, 3]\n",
      "<class 'list'>\n"
     ]
    }
   ],
   "source": [
    "tuple_temp = (1, 2, 3)\n",
    "list_temp = list(tuple_temp) # type casting to list from tuple\n",
    "\n",
    "print(list_temp)\n",
    "print(type(list_temp))"
   ]
  },
  {
   "cell_type": "markdown",
   "id": "df13aff6-ac2e-43c6-9a1c-ea995df74f63",
   "metadata": {},
   "source": [
    "### 16. Variables that \"contain\" list values are not necessarily lists themselves. Instead, what do they contain?"
   ]
  },
  {
   "cell_type": "markdown",
   "id": "4b43aa2e-e6fd-4a43-b299-5213d033535f",
   "metadata": {},
   "source": [
    "**Answer:**\n",
    "\n",
    "Variables that \"contain\" list values are containing references to list values."
   ]
  },
  {
   "cell_type": "markdown",
   "id": "629c1dfb-9383-473f-9c83-3925d9a86bf2",
   "metadata": {},
   "source": [
    "### 17. How do you distinguish between copy.copy() and copy.deepcopy()?"
   ]
  },
  {
   "cell_type": "code",
   "execution_count": 52,
   "id": "880d4fd1-3798-45b6-baaa-dfc8ff8b00a5",
   "metadata": {},
   "outputs": [
    {
     "name": "stdout",
     "output_type": "stream",
     "text": [
      "[[7, 2], [3, 4, 5]]\n"
     ]
    }
   ],
   "source": [
    "import copy\n",
    "\n",
    "list_temp = [[1, 2], [3, 4, 5]]\n",
    "new_list = copy.copy(list_temp)\n",
    "\n",
    "new_list[0][0] = 7\n",
    "\n",
    "print(list_temp)  # referenceing same object so changed"
   ]
  },
  {
   "cell_type": "markdown",
   "id": "f3f509af-d1a6-464d-b6ae-fbe5aa951c9c",
   "metadata": {},
   "source": [
    "`copy.copy()` creates a new object that references the same content as the original object, while `copy.deepcopy()` creates a new object with completely independent content from the original object."
   ]
  },
  {
   "cell_type": "code",
   "execution_count": 53,
   "id": "60894ae7-5896-4c37-8108-0ac78f991e35",
   "metadata": {},
   "outputs": [
    {
     "name": "stdout",
     "output_type": "stream",
     "text": [
      "[[1, 2], [3, 4, 5]]\n"
     ]
    }
   ],
   "source": [
    "import copy\n",
    "\n",
    "list_temp = [[1, 2], [3, 4, 5]]\n",
    "new_list = copy.deepcopy(list_temp)\n",
    "\n",
    "new_list[0][0] = 7\n",
    "\n",
    "print(list_temp)  # referencing different object so not changed"
   ]
  },
  {
   "cell_type": "code",
   "execution_count": null,
   "id": "87ca0e2f-a51f-4f51-b02c-6b959a256225",
   "metadata": {},
   "outputs": [],
   "source": []
  },
  {
   "cell_type": "code",
   "execution_count": null,
   "id": "c304d7e5-bce6-4528-8316-28911f9c6a2e",
   "metadata": {},
   "outputs": [],
   "source": []
  }
 ],
 "metadata": {
  "kernelspec": {
   "display_name": "Python 3 (ipykernel)",
   "language": "python",
   "name": "python3"
  },
  "language_info": {
   "codemirror_mode": {
    "name": "ipython",
    "version": 3
   },
   "file_extension": ".py",
   "mimetype": "text/x-python",
   "name": "python",
   "nbconvert_exporter": "python",
   "pygments_lexer": "ipython3",
   "version": "3.10.6"
  }
 },
 "nbformat": 4,
 "nbformat_minor": 5
}
