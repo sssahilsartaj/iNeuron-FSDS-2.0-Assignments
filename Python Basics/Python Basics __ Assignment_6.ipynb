{
 "cells": [
  {
   "cell_type": "markdown",
   "id": "442159a6-b6e7-4b0d-896b-f3ab8ea24ca5",
   "metadata": {},
   "source": [
    "### 1. What are escape characters, and how do you use them?"
   ]
  },
  {
   "cell_type": "markdown",
   "id": "91835389-cbed-4746-8251-7b06babc4102",
   "metadata": {},
   "source": [
    "**Answer:**\n",
    "\n",
    "To insert characters that are illegal in a string, we use an escape character.\n",
    "\n",
    "For example I want to take the coding word within double quotes,"
   ]
  },
  {
   "cell_type": "code",
   "execution_count": 57,
   "id": "f4c25ffd-6e88-45a3-98a5-9a92b3f144c3",
   "metadata": {},
   "outputs": [
    {
     "ename": "SyntaxError",
     "evalue": "invalid syntax. Perhaps you forgot a comma? (567078289.py, line 1)",
     "output_type": "error",
     "traceback": [
      "\u001b[0;36m  Cell \u001b[0;32mIn [57], line 1\u001b[0;36m\u001b[0m\n\u001b[0;31m    print(\"I love \"coding\" day and night\")\u001b[0m\n\u001b[0m          ^\u001b[0m\n\u001b[0;31mSyntaxError\u001b[0m\u001b[0;31m:\u001b[0m invalid syntax. Perhaps you forgot a comma?\n"
     ]
    }
   ],
   "source": [
    "print(\"I love \"coding\" day and night\")"
   ]
  },
  {
   "cell_type": "markdown",
   "id": "ddb6c143-088b-4e7b-9c0a-42c5cb08e0ed",
   "metadata": {},
   "source": [
    "We are getting syntax error so to overcome this issue we use escape character,\n",
    "\n",
    "For example,"
   ]
  },
  {
   "cell_type": "code",
   "execution_count": 58,
   "id": "0787fb83-bc65-4bd1-8a12-4ff74a5ed2f2",
   "metadata": {},
   "outputs": [
    {
     "name": "stdout",
     "output_type": "stream",
     "text": [
      "I love \"coding\" day and night\n"
     ]
    }
   ],
   "source": [
    "print(\"I love \\\"coding\\\" day and night\")"
   ]
  },
  {
   "cell_type": "markdown",
   "id": "d0bc11b0-4bca-4a27-82ab-dd1ef0b0d5dc",
   "metadata": {},
   "source": [
    "### 2. What do the escape characters n and t stand for?"
   ]
  },
  {
   "cell_type": "markdown",
   "id": "da491083-2ea5-4700-9112-79640285de50",
   "metadata": {},
   "source": [
    "**Answer:**\n",
    "\n",
    "The escape character n stand for a **new line**.\n",
    "\n",
    "The escape character t stand for a **tab**.\n",
    "\n",
    "Example:"
   ]
  },
  {
   "cell_type": "code",
   "execution_count": 59,
   "id": "1fffd6b8-a43a-4e84-9ce1-6c7a00d344da",
   "metadata": {},
   "outputs": [
    {
     "name": "stdout",
     "output_type": "stream",
     "text": [
      "**********************************************\n",
      "\tI love \t\"coding\" \n",
      "\tday and night\n",
      "**********************************************\n"
     ]
    }
   ],
   "source": [
    "print(\"**********************************************\\n\\tI love \\t\\\"coding\\\" \\n\\tday and night\\n**********************************************\")"
   ]
  },
  {
   "cell_type": "markdown",
   "id": "7a73a5ba-13b7-4282-b963-51d2becc8911",
   "metadata": {},
   "source": [
    "### 3. What is the way to include backslash characters in a string?"
   ]
  },
  {
   "cell_type": "markdown",
   "id": "5696e34b-6035-4122-a675-8a88f6e50447",
   "metadata": {},
   "source": [
    "**Answer:**\n",
    "\n",
    "To include backslash i.e., \\ in string we need to use another backslash i.e., \\ character.\n",
    "\n",
    "Let's take an example that I want to write this **coding** word within backslash like \\coding\\\\."
   ]
  },
  {
   "cell_type": "code",
   "execution_count": 60,
   "id": "72672723-3590-4f21-9dd6-2e9ab3cbfc0d",
   "metadata": {},
   "outputs": [
    {
     "name": "stdout",
     "output_type": "stream",
     "text": [
      "I love \\coding\\ day and night\n"
     ]
    }
   ],
   "source": [
    "print(\"I love \\\\coding\\\\ day and night\")"
   ]
  },
  {
   "cell_type": "markdown",
   "id": "acdb25bc-591c-40cd-8822-8ad26c88450b",
   "metadata": {},
   "source": [
    "### 4. The string \"Howl's Moving Castle\" is a correct value. Why isn't the single quote character in the word Howl's not escaped a problem?"
   ]
  },
  {
   "cell_type": "markdown",
   "id": "017604d8-1981-43c2-8eab-1a04798161df",
   "metadata": {},
   "source": [
    "**Answer:**\n",
    "\n",
    "\"Howl's Moving Castle\" is not having any issue because we write this string within **double quotes** and Howl's as **single quote**.\n",
    "\n",
    "Let's take an example, if we use single quote to write this then we have to use the backslash i.e., \\ before 's.\n",
    "\n",
    "But as we are not using the single quote so it is not having ant syntax error."
   ]
  },
  {
   "cell_type": "code",
   "execution_count": 61,
   "id": "2242a3ee-4ce5-4a89-add6-ea6535822f1b",
   "metadata": {},
   "outputs": [
    {
     "name": "stdout",
     "output_type": "stream",
     "text": [
      "Howl's Moving Castle\n"
     ]
    }
   ],
   "source": [
    "print(\"Howl's Moving Castle\") # no error\n"
   ]
  },
  {
   "cell_type": "code",
   "execution_count": 62,
   "id": "6dde8862-85a2-4278-85ca-1f2f7f4d14fe",
   "metadata": {},
   "outputs": [
    {
     "ename": "SyntaxError",
     "evalue": "unterminated string literal (detected at line 1) (3938775771.py, line 1)",
     "output_type": "error",
     "traceback": [
      "\u001b[0;36m  Cell \u001b[0;32mIn [62], line 1\u001b[0;36m\u001b[0m\n\u001b[0;31m    print('Howl's Moving Castle') # syntax error\u001b[0m\n\u001b[0m                               ^\u001b[0m\n\u001b[0;31mSyntaxError\u001b[0m\u001b[0;31m:\u001b[0m unterminated string literal (detected at line 1)\n"
     ]
    }
   ],
   "source": [
    "print('Howl's Moving Castle') # syntax error"
   ]
  },
  {
   "cell_type": "code",
   "execution_count": 63,
   "id": "5e04f633-ecdf-4881-ac1f-db6e08cb72db",
   "metadata": {},
   "outputs": [
    {
     "name": "stdout",
     "output_type": "stream",
     "text": [
      "Howl's Moving Castle\n"
     ]
    }
   ],
   "source": [
    "print('Howl\\'s Moving Castle') # using \\"
   ]
  },
  {
   "cell_type": "markdown",
   "id": "011ebeae-84b8-4e04-b007-6ecb135c3fcc",
   "metadata": {},
   "source": [
    "### 5. How do you write a string of newlines if you don't want to use the n character?"
   ]
  },
  {
   "cell_type": "markdown",
   "id": "de08292c-b099-4eca-a4f4-1770ae02d210",
   "metadata": {},
   "source": [
    "**Answer:**\n",
    "\n",
    "We can use **triple quotes** i.e., \"\"\" if we want a string of newlines instead of using the n character.\n",
    "\n",
    "Example:"
   ]
  },
  {
   "cell_type": "code",
   "execution_count": 64,
   "id": "4e01d963-1165-4f02-a829-a92a7c61d1b6",
   "metadata": {},
   "outputs": [
    {
     "name": "stdout",
     "output_type": "stream",
     "text": [
      "I \n",
      "love\n",
      "coding\n",
      "day and night\n"
     ]
    }
   ],
   "source": [
    "print(\"\"\"I \n",
    "love\n",
    "coding\n",
    "day and night\"\"\")"
   ]
  },
  {
   "cell_type": "markdown",
   "id": "6194d6d1-e22a-4444-a0e3-5bbf5a8ee74b",
   "metadata": {},
   "source": [
    "### 6. What are the values of the given expressions?\n",
    "'Hello, world!'[1]\\\n",
    "'Hello, world!'[0:5]\\\n",
    "'Hello, world!'[:5]\\\n",
    "'Hello, world!'[3:]\n"
   ]
  },
  {
   "cell_type": "code",
   "execution_count": 65,
   "id": "1f53ae88-c0a1-465b-83c3-567ed6f6e660",
   "metadata": {},
   "outputs": [
    {
     "data": {
      "text/plain": [
       "'e'"
      ]
     },
     "execution_count": 65,
     "metadata": {},
     "output_type": "execute_result"
    }
   ],
   "source": [
    "'Hello, world!'[1]"
   ]
  },
  {
   "cell_type": "code",
   "execution_count": 66,
   "id": "08c15f36-77bb-4c5d-83a5-f19c40f782a1",
   "metadata": {},
   "outputs": [
    {
     "data": {
      "text/plain": [
       "'Hello'"
      ]
     },
     "execution_count": 66,
     "metadata": {},
     "output_type": "execute_result"
    }
   ],
   "source": [
    "'Hello, world!'[0:5]"
   ]
  },
  {
   "cell_type": "code",
   "execution_count": 67,
   "id": "cb0b3bcb-f15d-45a8-a4d3-daf612a47461",
   "metadata": {},
   "outputs": [
    {
     "data": {
      "text/plain": [
       "'Hello'"
      ]
     },
     "execution_count": 67,
     "metadata": {},
     "output_type": "execute_result"
    }
   ],
   "source": [
    "'Hello, world!'[:5]"
   ]
  },
  {
   "cell_type": "code",
   "execution_count": 68,
   "id": "867619cd-8725-4c57-a65b-57cfb6a6e0ad",
   "metadata": {},
   "outputs": [
    {
     "data": {
      "text/plain": [
       "'lo, world!'"
      ]
     },
     "execution_count": 68,
     "metadata": {},
     "output_type": "execute_result"
    }
   ],
   "source": [
    "'Hello, world!'[3:]"
   ]
  },
  {
   "cell_type": "markdown",
   "id": "f158843a-f401-4cee-a042-962d46303c07",
   "metadata": {},
   "source": [
    "### 7. What are the values of the following expressions?\n",
    "'Hello'.upper() \\\n",
    "'Hello'.upper().isupper()\\\n",
    "'Hello'.upper().lower()\n",
    "\n"
   ]
  },
  {
   "cell_type": "code",
   "execution_count": 69,
   "id": "6bd9cbc6-c920-46a8-9ed2-d94b15fe668f",
   "metadata": {},
   "outputs": [
    {
     "data": {
      "text/plain": [
       "'HELLO'"
      ]
     },
     "execution_count": 69,
     "metadata": {},
     "output_type": "execute_result"
    }
   ],
   "source": [
    "'Hello'.upper()"
   ]
  },
  {
   "cell_type": "code",
   "execution_count": 70,
   "id": "5740ce13-33cf-4f82-b215-eed4cb8e4163",
   "metadata": {},
   "outputs": [
    {
     "data": {
      "text/plain": [
       "True"
      ]
     },
     "execution_count": 70,
     "metadata": {},
     "output_type": "execute_result"
    }
   ],
   "source": [
    "'Hello'.upper().isupper()"
   ]
  },
  {
   "cell_type": "code",
   "execution_count": 71,
   "id": "ee4125c3-90bd-4fb4-9cc2-99aaa02f7f81",
   "metadata": {},
   "outputs": [
    {
     "data": {
      "text/plain": [
       "'hello'"
      ]
     },
     "execution_count": 71,
     "metadata": {},
     "output_type": "execute_result"
    }
   ],
   "source": [
    "'Hello'.upper().lower()"
   ]
  },
  {
   "cell_type": "markdown",
   "id": "02de6028-4275-40b3-94e2-fd694960a7ed",
   "metadata": {},
   "source": [
    "### 8. What are the values of the following expressions?\n",
    "'Remember, remember, the fifth of July.'.split()\\\n",
    "'-'.join('There can only one.'.split())\n"
   ]
  },
  {
   "cell_type": "code",
   "execution_count": 72,
   "id": "8e76c0ce-2cef-4b16-838e-e757c01ca65a",
   "metadata": {},
   "outputs": [
    {
     "data": {
      "text/plain": [
       "['Remember,', 'remember,', 'the', 'fifth', 'of', 'July.']"
      ]
     },
     "execution_count": 72,
     "metadata": {},
     "output_type": "execute_result"
    }
   ],
   "source": [
    "'Remember, remember, the fifth of July.'.split()"
   ]
  },
  {
   "cell_type": "code",
   "execution_count": 73,
   "id": "d7f366ef-ab6a-43a9-b4b0-81cdeb396320",
   "metadata": {},
   "outputs": [
    {
     "data": {
      "text/plain": [
       "'There-can-only-one.'"
      ]
     },
     "execution_count": 73,
     "metadata": {},
     "output_type": "execute_result"
    }
   ],
   "source": [
    "'-'.join('There can only one.'.split())"
   ]
  },
  {
   "cell_type": "markdown",
   "id": "d59f623f-74bf-4630-bdb7-e1f213b8c43d",
   "metadata": {},
   "source": [
    "### 9. What are the methods for right-justifying, left-justifying, and centering a string?"
   ]
  },
  {
   "cell_type": "markdown",
   "id": "b59b827f-9c18-459e-adb0-8c5f69f73b2e",
   "metadata": {},
   "source": [
    "**Answer:**\n",
    "\n",
    "The methods for right-justifying, left-justifying, and centering for a string are:\n",
    "\n",
    "*  `ljust()` for left-justifying for a string.\n",
    "*  `rjust()` for right-justifying for a string.\n",
    "*  `center()` for centering for a string.\n"
   ]
  },
  {
   "cell_type": "markdown",
   "id": "97242a1b-0817-473b-a8a7-e8ce2a4564a6",
   "metadata": {},
   "source": [
    "### 10. What is the best way to remove whitespace characters from the start or end?"
   ]
  },
  {
   "cell_type": "markdown",
   "id": "3fae49a6-08eb-4ed0-9f1e-a8ac83b8be68",
   "metadata": {},
   "source": [
    "**Answer:**\n",
    "\n",
    "Best way to remove whitespace characters from the start or end is we can use the\n",
    "`strip()` method.\n",
    "\n",
    "Let's take an example,"
   ]
  },
  {
   "cell_type": "code",
   "execution_count": 74,
   "id": "90df0106-64ba-485e-b79d-7e7fd5c8f7b5",
   "metadata": {},
   "outputs": [
    {
     "name": "stdout",
     "output_type": "stream",
     "text": [
      "I love coding day and night\n"
     ]
    }
   ],
   "source": [
    "print(\"        I love coding day and night    \".strip())"
   ]
  },
  {
   "cell_type": "code",
   "execution_count": null,
   "id": "256932de-d987-4314-ae6c-5f872d482e64",
   "metadata": {},
   "outputs": [],
   "source": []
  },
  {
   "cell_type": "code",
   "execution_count": null,
   "id": "4daf343c-cb5d-4b78-bcb0-0989364d6e7b",
   "metadata": {},
   "outputs": [],
   "source": []
  },
  {
   "cell_type": "code",
   "execution_count": null,
   "id": "3532d733-1e83-4310-b686-91c05aff7a97",
   "metadata": {},
   "outputs": [],
   "source": []
  }
 ],
 "metadata": {
  "kernelspec": {
   "display_name": "Python 3 (ipykernel)",
   "language": "python",
   "name": "python3"
  },
  "language_info": {
   "codemirror_mode": {
    "name": "ipython",
    "version": 3
   },
   "file_extension": ".py",
   "mimetype": "text/x-python",
   "name": "python",
   "nbconvert_exporter": "python",
   "pygments_lexer": "ipython3",
   "version": "3.10.6"
  }
 },
 "nbformat": 4,
 "nbformat_minor": 5
}
