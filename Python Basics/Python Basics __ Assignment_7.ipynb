{
 "cells": [
  {
   "cell_type": "markdown",
   "id": "442159a6-b6e7-4b0d-896b-f3ab8ea24ca5",
   "metadata": {},
   "source": [
    "### 1. What is the name of the feature responsible for generating Regex objects?"
   ]
  },
  {
   "cell_type": "markdown",
   "id": "91835389-cbed-4746-8251-7b06babc4102",
   "metadata": {},
   "source": [
    "**Answer:**\n",
    "\n",
    "The feature responsible for generating Regex objects is the `re.compile()` function. Here **re** is the module name and **compile()** is the function of the re module.\n",
    "\n",
    "`re.module()` is responsible for generating the Regex objects and it is used to compile a regular expression pattern into a Regex object."
   ]
  },
  {
   "cell_type": "markdown",
   "id": "d0bc11b0-4bca-4a27-82ab-dd1ef0b0d5dc",
   "metadata": {},
   "source": [
    "### 2. Why do raw strings often appear in Regex objects?"
   ]
  },
  {
   "cell_type": "markdown",
   "id": "da491083-2ea5-4700-9112-79640285de50",
   "metadata": {},
   "source": [
    "**Answer:**\n",
    "\n",
    "Raw string often appears in Regex objects because, regular expression is a set of characters that specifies a search pattern and it is mostly used in the text processors and search engines to execute find and replace operations. Regular expression frequently consist of backslashes i.e., \\ and other special characters (a.k.a Metacharacters), which have special meanings in Python string literals. But if we want a raw string just like as it is we can use the string in Python prefixed with **r\" \"** or **R\" \"**, and it becomes a raw string just like as it is.\n",
    "\n",
    "Let's take an example to understand it more clearly,"
   ]
  },
  {
   "cell_type": "code",
   "execution_count": 20,
   "id": "1fffd6b8-a43a-4e84-9ce1-6c7a00d344da",
   "metadata": {},
   "outputs": [
    {
     "name": "stdout",
     "output_type": "stream",
     "text": [
      "I\n",
      "\tLove\n",
      "\t\tCoding\n",
      "I\\n\\tLove\\n\\t\\tCoding\n"
     ]
    }
   ],
   "source": [
    "import re\n",
    "\n",
    "# w/o using the raw string\n",
    "print(\"I\\n\\tLove\\n\\t\\tCoding\")\n",
    "\n",
    "# with using the raw string\n",
    "print(r\"I\\n\\tLove\\n\\t\\tCoding\")"
   ]
  },
  {
   "cell_type": "markdown",
   "id": "7a73a5ba-13b7-4282-b963-51d2becc8911",
   "metadata": {},
   "source": [
    "### 3. What is the return value of the search() method?"
   ]
  },
  {
   "cell_type": "markdown",
   "id": "5696e34b-6035-4122-a675-8a88f6e50447",
   "metadata": {},
   "source": [
    "**Answer:**\n",
    "\n",
    "The return value of `re.search(pattern, string)` method is a **match object** if there is a match anywhere in the string.\n",
    "\n",
    "If the string is not matched with the pattern then the return value is **None**."
   ]
  },
  {
   "cell_type": "code",
   "execution_count": 22,
   "id": "9025b83f-9265-443d-934b-52a96f871055",
   "metadata": {},
   "outputs": [
    {
     "name": "stdout",
     "output_type": "stream",
     "text": [
      "YES! It is matched\n"
     ]
    }
   ],
   "source": [
    "string = \"I want to become a Data Scientist\"\n",
    "\n",
    "x = re.search(\"Data\", string) # return a match object if there is a match anywhere in the string\n",
    "\n",
    "if x:\n",
    "  print(\"YES! It is matched\")\n",
    "else:\n",
    "  print(\"No match\")\n"
   ]
  },
  {
   "cell_type": "markdown",
   "id": "acdb25bc-591c-40cd-8822-8ad26c88450b",
   "metadata": {},
   "source": [
    "### 4. From a Match item, how do you get the actual strings that match the pattern?"
   ]
  },
  {
   "cell_type": "markdown",
   "id": "017604d8-1981-43c2-8eab-1a04798161df",
   "metadata": {},
   "source": [
    "**Answer:**\n",
    "\n",
    "We can get the actual strings that match the pattern using the `group()` method of the Match object.\n",
    "\n",
    "Example,"
   ]
  },
  {
   "cell_type": "code",
   "execution_count": 28,
   "id": "2242a3ee-4ce5-4a89-add6-ea6535822f1b",
   "metadata": {},
   "outputs": [
    {
     "name": "stdout",
     "output_type": "stream",
     "text": [
      "Data Scientist\n"
     ]
    }
   ],
   "source": [
    "import re\n",
    "\n",
    "string = \"I want to become a Data Scientist\"\n",
    "\n",
    "x = re.search(\"D.*t\", string)\n",
    "print(x.group())"
   ]
  },
  {
   "cell_type": "markdown",
   "id": "011ebeae-84b8-4e04-b007-6ecb135c3fcc",
   "metadata": {},
   "source": [
    "### 5. In the regex which created from the r'(\\d\\d\\d)-(\\d\\d\\d-\\d\\d\\d\\d)', what does group zero cover? Group 2? Group 1?"
   ]
  },
  {
   "cell_type": "markdown",
   "id": "de08292c-b099-4eca-a4f4-1770ae02d210",
   "metadata": {},
   "source": [
    "**Answer:**\n",
    "\n",
    "As we know that `\\d` returns a match where the string contains digits (numbers from 0-9).\n",
    "\n",
    "Let's take an example to give proper answer for this question,"
   ]
  },
  {
   "cell_type": "code",
   "execution_count": 36,
   "id": "4e01d963-1165-4f02-a829-a92a7c61d1b6",
   "metadata": {},
   "outputs": [
    {
     "name": "stdout",
     "output_type": "stream",
     "text": [
      "033-123-0987\n",
      "123-0987\n",
      "033\n"
     ]
    }
   ],
   "source": [
    "import re\n",
    "\n",
    "pattern = r'(\\d\\d\\d)-(\\d\\d\\d-\\d\\d\\d\\d)'\n",
    "text = 'Please contact on this number 033-123-0987'\n",
    "\n",
    "match = re.search(pattern, text)\n",
    "\n",
    "if match:\n",
    "    print(match.group(0))\n",
    "    \n",
    "    print(match.group(2))\n",
    "    \n",
    "    print(match.group(1))"
   ]
  },
  {
   "cell_type": "markdown",
   "id": "612d312c-9b51-423f-a0d8-4d744e8d0864",
   "metadata": {},
   "source": [
    "As we can see from the above example group(0), group(1) and group(2) covers,\n",
    "\n",
    "* **group(0)**: It covers the entire pattern match so it will return the entire string that matched the regex pattern.\n",
    "\n",
    "* **group(1)**: It covers the (\\d\\d\\d) that is the first capturing group of (\\d\\d\\d), which matches the first three consecutive digits of the phone number. \n",
    "\n",
    "* **group(2)**: It covers the (\\d\\d\\d-\\d\\d\\d\\d) that is the second capturing group of (\\d\\d\\d-\\d\\d\\d\\d), which matches the hyphen-separated group of six digits i.e., the last seven digits of the phone number."
   ]
  },
  {
   "cell_type": "markdown",
   "id": "6194d6d1-e22a-4444-a0e3-5bbf5a8ee74b",
   "metadata": {},
   "source": [
    "### 6. In standard expression syntax, parentheses and intervals have distinct meanings. How can you tell a regex that you want it to fit real parentheses and periods?\n"
   ]
  },
  {
   "cell_type": "markdown",
   "id": "52da5582-a69f-42c3-b81f-6254caa946a9",
   "metadata": {},
   "source": [
    "**Answer:**\n",
    "\n",
    "In standard expression syntax parentheses are used to define the groups. If we want to use like real parentheses we have to use the backslash i.e., \\ before every parantheses.\n",
    "\n",
    "Let's take and example,"
   ]
  },
  {
   "cell_type": "code",
   "execution_count": 42,
   "id": "c55317f9-a8b7-4db8-855f-5d369942f6a2",
   "metadata": {},
   "outputs": [
    {
     "name": "stdout",
     "output_type": "stream",
     "text": [
      "Using the backslash ---> (033)-1800972\n",
      "With out using the backslash ---> None\n"
     ]
    }
   ],
   "source": [
    "import re\n",
    "\n",
    "pattern_using_backslash = r\"\\(\\d\\d\\d\\)-(\\d\\d\\d\\d\\d\\d\\d)\"\n",
    "pattern_without_using_backslash = r\"(\\d\\d\\d)-(\\d\\d\\d\\d\\d\\d\\d)\"\n",
    "\n",
    "text = '(033)-1800972'\n",
    "\n",
    "match1 = re.search(pattern_using_backslash, text)\n",
    "match2 = re.search(pattern_without_using_backslash, text)\n",
    "\n",
    "print(\"Using the backslash --->\",match1.group())\n",
    "print(\"With out using the backslash --->\",match2)"
   ]
  },
  {
   "cell_type": "markdown",
   "id": "f158843a-f401-4cee-a042-962d46303c07",
   "metadata": {},
   "source": [
    "### 7. The findall() method returns a string list or a list of string tuples. What causes it to return one of the two options?"
   ]
  },
  {
   "cell_type": "markdown",
   "id": "0bfb85e4-63cc-4d54-8a17-adf1b2fb0080",
   "metadata": {},
   "source": [
    "**Answer:**\n",
    "\n",
    "If the regex pattern has no groups, a string list returned.\n",
    "\n",
    "If the regex pattern has groups, a list of string tuples returned."
   ]
  },
  {
   "cell_type": "markdown",
   "id": "86f9f416-dd10-4f2f-9ddf-475bb66ca21a",
   "metadata": {},
   "source": [
    "### 8. In standard expressions, what does the | character mean?"
   ]
  },
  {
   "cell_type": "markdown",
   "id": "1f1a5b8e-3467-431c-91ba-49a9cc6e3e77",
   "metadata": {},
   "source": [
    "**Answer:**\n",
    "\n",
    "In Standard Expressions **|** means OR operator.\n",
    "\n",
    "It is used to match any one of the set of alternatives."
   ]
  },
  {
   "cell_type": "markdown",
   "id": "02de6028-4275-40b3-94e2-fd694960a7ed",
   "metadata": {},
   "source": [
    "### 9. In regular expressions, what does the character stand for?\n"
   ]
  },
  {
   "cell_type": "markdown",
   "id": "450bf949-4936-4268-b171-c804092ef083",
   "metadata": {},
   "source": [
    "**Answer:**\n",
    "\n",
    "I don't understand this question.\n",
    "\n",
    "What character stand for does it mean?\n",
    "\n",
    "In Regular Expression the character stand for a very special meaning. They are used in the text processors and search engines to execute find and replace operations."
   ]
  },
  {
   "cell_type": "markdown",
   "id": "d59f623f-74bf-4630-bdb7-e1f213b8c43d",
   "metadata": {},
   "source": [
    "### 10.In regular expressions, what is the difference between the + and * characters?"
   ]
  },
  {
   "cell_type": "markdown",
   "id": "b59b827f-9c18-459e-adb0-8c5f69f73b2e",
   "metadata": {},
   "source": [
    "**Answer:**\n",
    "\n",
    "* In Regular Expressions, `*` represents zero or more occurances of the preceeding group.\n",
    "\n",
    "* In Regular Expressions, `+` represents one or more occurances of the preceeding group."
   ]
  },
  {
   "cell_type": "markdown",
   "id": "97242a1b-0817-473b-a8a7-e8ce2a4564a6",
   "metadata": {},
   "source": [
    "### 11. What is the difference between {4} and {4,5} in regular expression?"
   ]
  },
  {
   "cell_type": "markdown",
   "id": "3fae49a6-08eb-4ed0-9f1e-a8ac83b8be68",
   "metadata": {},
   "source": [
    "**Answer:**\n",
    "\n",
    "In RE we are using curly braces {} to specify the number of occurrences of the preceding character or group.\n",
    "\n",
    "`{4}` means in regular expression is that its preceding group should repeat 4 times.\n",
    "\n",
    "`{4,5}` means in regular expression is that its preceding group should repeat mininum 4 times and maximum 5 times inclusively.\n",
    "\n",
    "Example,"
   ]
  },
  {
   "cell_type": "code",
   "execution_count": 4,
   "id": "90df0106-64ba-485e-b79d-7e7fd5c8f7b5",
   "metadata": {},
   "outputs": [
    {
     "name": "stdout",
     "output_type": "stream",
     "text": [
      "My first four digits of the pincode is 1234.\n",
      "My full five digit pincode is 12345.\n"
     ]
    }
   ],
   "source": [
    "import re\n",
    "\n",
    "text = \"I lived in Kolkata and my pincode is 12345. Please come to my place\"\n",
    "\n",
    "pattern1 = r\"\\d{4}\"\n",
    "pattern2 = r\"\\d{4,5}\"\n",
    "\n",
    "match1 = re.search(pattern1, text)\n",
    "match2 = re.search(pattern2, text)\n",
    "\n",
    "print(f\"My first four digits of the pincode is {match1.group()}.\")\n",
    "print(f\"My full five digit pincode is {match2.group()}.\")\n"
   ]
  },
  {
   "cell_type": "markdown",
   "id": "d52cffeb-19be-472e-b503-facbf24b3a7b",
   "metadata": {},
   "source": [
    "### 12. What do you mean by the \\d, \\w, and \\s shorthand character classes signify in regular expressions?"
   ]
  },
  {
   "cell_type": "markdown",
   "id": "dabd00f1-06ea-4610-b24e-dfcff33d8ab2",
   "metadata": {},
   "source": [
    "**Answer:**\n",
    "\n",
    "* `\\d`: This shorthand character class matches any digit from 0 to 9.\n",
    "\n",
    "* `\\w`: This shorthand character class matches any word character, which includes all uppercase and lowercase letters, digits, and underscores.\n",
    "\n",
    "* `\\s`: This shorthand character class matches any whitespace character, including spaces, tabs, and line breaks.\n",
    "\n",
    "Example,"
   ]
  },
  {
   "cell_type": "code",
   "execution_count": 13,
   "id": "3532d733-1e83-4310-b686-91c05aff7a97",
   "metadata": {},
   "outputs": [
    {
     "name": "stdout",
     "output_type": "stream",
     "text": [
      "My employee number is: 461324123\n",
      "My mail id is: johndoe@ineuron.com\n",
      "White spaces, line breaks are as mentioned below: \n",
      "[' ', ' ', ' ', ' ', ' ', ' ', ' ', ' ', ' ', ' ', ' ', ' ', '\\n          ', ' ', ' ', ' ', ' ', ' ', '\\n          ', '       ', ' ', ' ', '                   ', ' ', ' ', ' ', ' ', ' ', ' ', '                    ', ' ']\n"
     ]
    }
   ],
   "source": [
    "import re\n",
    "\n",
    "text = \"\"\"Hello everyone my name is John Doe and my emp id is 461324123.\n",
    "          My official mail id is johndoe@ineuron.com.\n",
    "          I       write this sentence                   just to check the \\s with multiple                    white spaces.\"\"\"\n",
    "\n",
    "\n",
    "pattern1 = r\"\\d{9}\"\n",
    "pattern2 = r\"\\w+@\\w+.com\"\n",
    "pattern3 = r\"\\s+\"\n",
    "\n",
    "match1 = re.search(pattern1, text)\n",
    "match2 = re.search(pattern2, text)\n",
    "match3 = re.findall(pattern3, text)\n",
    "\n",
    "print(f\"My employee number is: {match1.group()}\")\n",
    "print(f\"My mail id is: {match2.group()}\")\n",
    "print(f\"White spaces, line breaks are as mentioned below: \\n{match3}\")"
   ]
  },
  {
   "cell_type": "markdown",
   "id": "678e933f-6088-460a-9acb-18fddd50b25c",
   "metadata": {},
   "source": [
    "### 13. What do means by \\D, \\W, and \\S shorthand character classes signify in regular expressions?"
   ]
  },
  {
   "cell_type": "markdown",
   "id": "789edde7-726e-4e11-9f3d-13b1df6c0282",
   "metadata": {},
   "source": [
    "**Answer:**\n",
    "\n",
    "* `\\D`: Returns a match where the string does not contain digits.\n",
    "\n",
    "* `\\W`: Returns a match where the string does not contain any word characters.\n",
    "\n",
    "* `\\S`: Returns a match where the string does not contain a white space character.\n",
    "\n",
    "Therefore all these are just opposite to the previous question's special sequences.\n",
    "\n",
    "Example,"
   ]
  },
  {
   "cell_type": "code",
   "execution_count": 23,
   "id": "505ad237-1088-4a06-92c8-98ebcd205152",
   "metadata": {},
   "outputs": [
    {
     "name": "stdout",
     "output_type": "stream",
     "text": [
      "Example of \\D:\n",
      " ['Hello everyone my name is John Doe and my emp id is ', '.\\n          My official mail id is johndoe@ineuron.com.\\n          I       write this sentence                   just to check the \\\\s with multiple                    white spaces.']\n",
      "----------------------------\n",
      "--------------------------\n",
      "Example of \\W:\n",
      " [' ', ' ', ' ', ' ', ' ', ' ', ' ', ' ', ' ', ' ', ' ', ' ', '.\\n          ', ' ', ' ', ' ', ' ', ' ', '@', '.', '.\\n          ', '       ', ' ', ' ', '                   ', ' ', ' ', ' ', ' \\\\', ' ', ' ', '                    ', ' ', '.']\n",
      "----------------------------\n",
      "--------------------------\n",
      "Example of \\S:\n",
      " ['Hello', 'everyone', 'my', 'name', 'is', 'John', 'Doe', 'and', 'my', 'emp', 'id', 'is', '461324123.', 'My', 'official', 'mail', 'id', 'is', 'johndoe@ineuron.com.', 'I', 'write', 'this', 'sentence', 'just', 'to', 'check', 'the', '\\\\s', 'with', 'multiple', 'white', 'spaces.']\n"
     ]
    }
   ],
   "source": [
    "import re\n",
    "\n",
    "text = \"\"\"Hello everyone my name is John Doe and my emp id is 461324123.\n",
    "          My official mail id is johndoe@ineuron.com.\n",
    "          I       write this sentence                   just to check the \\s with multiple                    white spaces.\"\"\"\n",
    "\n",
    "\n",
    "pattern1 = r\"\\D+\"\n",
    "pattern2 = r\"\\W+\"\n",
    "pattern3 = r\"\\S+\"\n",
    "\n",
    "match1 = re.findall(pattern1, text)\n",
    "match2 = re.findall(pattern2, text)\n",
    "match3 = re.findall(pattern3, text)\n",
    "\n",
    "print(f\"Example of \\D:\\n {match1}\\n----------------------------\\n--------------------------\")\n",
    "print(f\"Example of \\W:\\n {match2}\\n----------------------------\\n--------------------------\")\n",
    "print(f\"Example of \\S:\\n {match3}\")"
   ]
  },
  {
   "cell_type": "markdown",
   "id": "a5f9f0f8-1dce-4b9f-a293-1f537cf48f6d",
   "metadata": {},
   "source": [
    "### 14. What is the difference between \".\\*?\" and \".\\*\"?"
   ]
  },
  {
   "cell_type": "markdown",
   "id": "d501fc46-a41e-4b50-9a85-38d6563d9d41",
   "metadata": {},
   "source": [
    "**Answer:**\n",
    "\n",
    "`.*?` is a non-greedy quantifier. It returns the shortest string that meets the condition.\n",
    "\n",
    "`.*` is a greedy quantifier. It returns the longest string that meets the condition.\n",
    "\n",
    "Example,"
   ]
  },
  {
   "cell_type": "code",
   "execution_count": 25,
   "id": "83ac46a9-96f6-4eb7-b26d-ca7d98f406f3",
   "metadata": {},
   "outputs": [
    {
     "name": "stdout",
     "output_type": "stream",
     "text": [
      "['aabbbcdddd']\n",
      "['aabbbc']\n"
     ]
    }
   ],
   "source": [
    "import re\n",
    "\n",
    "text = \"aabbbcdddd\"\n",
    "\n",
    "pattern1 = r\"a.*d\"\n",
    "pattern2 = r\"a.*?c\"\n",
    "\n",
    "match1 = re.findall(pattern1, text)\n",
    "match2 = re.findall(pattern2, text)\n",
    "\n",
    "print(match1)\n",
    "print(match2)"
   ]
  },
  {
   "cell_type": "markdown",
   "id": "a2bcd301-dc3d-4564-804f-8ce7f50c7733",
   "metadata": {},
   "source": [
    "### 15. What is the syntax for matching both numbers and lowercase letters with a character class?"
   ]
  },
  {
   "cell_type": "markdown",
   "id": "20104ec5-5865-40e0-8aa1-9d1f738262f5",
   "metadata": {},
   "source": [
    "**Answer:**\n",
    "\n",
    "The syntax for matching both numbers and lowercase letters with a character class is\n",
    "        `r\"[0-9a-z]+\"`"
   ]
  },
  {
   "cell_type": "markdown",
   "id": "6c6046cd-1663-4bbe-aa6c-b3c55baa0b33",
   "metadata": {},
   "source": [
    "### 16. What is the procedure for making a normal expression in regax case insensitive?"
   ]
  },
  {
   "cell_type": "markdown",
   "id": "fa3d01e5-0f46-4cd9-a571-6478b8df0312",
   "metadata": {},
   "source": [
    "**Answer:**\n",
    "\n",
    "We can pass **re.IGNORECASE** as a flag to make a noraml expression case insensitive."
   ]
  },
  {
   "cell_type": "markdown",
   "id": "7731a42e-7d30-4f1c-987f-3495d86744db",
   "metadata": {},
   "source": [
    "### 17. What does the . character normally match? What does it match if re.DOTALL is passed as 2nd argument in re.compile()?"
   ]
  },
  {
   "cell_type": "markdown",
   "id": "44f8ec91-7ac1-42cf-b342-68264203b71d",
   "metadata": {},
   "source": [
    "**Answer:**\n",
    "\n",
    "The `.` character in a regular expression pattern normally matches any character except for a newline character.\n",
    "\n",
    "If we pass the `re.DOTALL` flag as the second argument to `re.compile()`, then the `.` character will match any character, including a newline character."
   ]
  },
  {
   "cell_type": "markdown",
   "id": "f3021c0d-9871-440e-b9cd-6380c65e3a57",
   "metadata": {},
   "source": [
    "### 18. If numReg = re.compile(r'\\d+'), what will numRegex.sub('X', '11 drummers, 10 pipers, five rings, 4 hen') return?"
   ]
  },
  {
   "cell_type": "code",
   "execution_count": 27,
   "id": "8418555d-efd2-4ac6-9f41-f727660f6e7d",
   "metadata": {},
   "outputs": [
    {
     "data": {
      "text/plain": [
       "'X drummers, X pipers, five rings, X hen'"
      ]
     },
     "execution_count": 27,
     "metadata": {},
     "output_type": "execute_result"
    }
   ],
   "source": [
    "import re\n",
    "\n",
    "numReg = re.compile(r'\\d+')\n",
    "# numRegex.sub('X', '11 drummers, 10 pipers, five rings, 4 hen')\n",
    "numReg.sub('X', '11 drummers, 10 pipers, five rings, 4 hen')"
   ]
  },
  {
   "cell_type": "markdown",
   "id": "e354112e-6a16-422e-8ad1-9c432bc2ac4a",
   "metadata": {},
   "source": [
    "### 19. What does passing re.VERBOSE as the 2nd argument to re.compile() allow to do?"
   ]
  },
  {
   "cell_type": "markdown",
   "id": "f7ee6a0c-65f1-4a37-8173-34f256b629a6",
   "metadata": {},
   "source": [
    "**Answer:**\n",
    "\n",
    "`re.VERBOSE` will allow to add whitespace and comments to string passed to `re.compile()`."
   ]
  },
  {
   "cell_type": "markdown",
   "id": "056a58e1-03ea-427b-830a-62224ca7c890",
   "metadata": {},
   "source": [
    "### 20. How would you write a regex that match a number with comma for every three digits? It must match the given following:\n",
    "'42'\\\n",
    "'1,234'\\\n",
    "'6,368,745'\\\n",
    "but not the following:\\\n",
    "'12,34,567' (which has only two digits between the commas)\\\n",
    "'1234' (which lacks commas)\n"
   ]
  },
  {
   "cell_type": "code",
   "execution_count": 2,
   "id": "3e5cadc6-d503-47bc-9d1f-dc608a6d67b1",
   "metadata": {},
   "outputs": [
    {
     "name": "stdout",
     "output_type": "stream",
     "text": [
      "42 match the condition\n",
      "1,234 match the condition\n",
      "6,368,745 match the condition\n",
      "12,34,567 does not match the condition\n",
      "1234 does not match the condition\n"
     ]
    }
   ],
   "source": [
    "import re\n",
    "\n",
    "pattern = re.compile(r'^\\d{1,3}(,\\d{3})*$')\n",
    "\n",
    "strings = ['42', '1,234', '6,368,745', '12,34,567', '1234']\n",
    "\n",
    "for s in strings:\n",
    "    if pattern.match(s):\n",
    "        print(s, 'match the condition')\n",
    "    else:\n",
    "        print(s, 'does not match the condition')"
   ]
  },
  {
   "cell_type": "markdown",
   "id": "beaa30bf-9ecc-42f4-8495-6a90e453c44b",
   "metadata": {},
   "source": [
    "Here we used `pattern = re.compile(r'^\\d{1,3}(,\\d{3})*$')`.\n",
    "\n",
    "Where,\n",
    "\n",
    "**^**: Matches the start of the string.\n",
    "\n",
    "**\\d{1,3}**: Matches 1 to 3 digits.\n",
    "\n",
    "**(,\\d{3})***: Matches zero or more occurrences of a comma followed by exactly 3 digits.\n",
    "\n",
    "**$**: Matches the end of the string."
   ]
  },
  {
   "cell_type": "markdown",
   "id": "9c4e9966-7e17-4314-a996-b1489641e8f2",
   "metadata": {},
   "source": [
    "### 21. How would you write a regex that matches the full name of someone whose last name is Watanabe? You can assume that the first name that comes before it will always be one word that begins with a capital letter. The regex must match the following:\n",
    "'Haruto Watanabe'\\\n",
    "'Alice Watanabe'\\\n",
    "'RoboCop Watanabe'\\\n",
    "but not the following:\\\n",
    "'haruto Watanabe' (where the first name is not capitalized)\\\n",
    "'Mr. Watanabe' (where the preceding word has a nonletter character)\\\n",
    "'Watanabe' (which has no first name)\\\n",
    "'Haruto watanabe' (where Watanabe is not capitalized)\n"
   ]
  },
  {
   "cell_type": "code",
   "execution_count": 4,
   "id": "9c34cd25-7750-4b05-ae0c-b6d96e342f26",
   "metadata": {},
   "outputs": [
    {
     "name": "stdout",
     "output_type": "stream",
     "text": [
      "Haruto Watanabe match the condition\n",
      "Alice Watanabe match the condition\n",
      "RoboCop Watanabe match the condition\n",
      "haruto Watanabe does not match the condition\n",
      "Mr. Watanabe does not match the condition\n",
      "Watanabe does not match the condition\n",
      "Haruto watanabe does not match the condition\n"
     ]
    }
   ],
   "source": [
    "import re\n",
    "pattern = re.compile(r'^[A-Z][a-zA-Z]*\\sWatanabe$')\n",
    "\n",
    "strings = ['Haruto Watanabe', 'Alice Watanabe', 'RoboCop Watanabe', 'haruto Watanabe', 'Mr. Watanabe', 'Watanabe', 'Haruto watanabe']\n",
    "\n",
    "for s in strings:\n",
    "    if pattern.match(s):\n",
    "        print(s, 'match the condition')\n",
    "    else:\n",
    "        print(s, 'does not match the condition')"
   ]
  },
  {
   "cell_type": "markdown",
   "id": "0358e9cb-e8b7-4c5c-921b-f06cafb19d99",
   "metadata": {},
   "source": [
    "### 22. How would you write a regex that matches a sentence where the first word is either Alice, Bob, or Carol; the second word is either eats, pets, or throws; the third word is apples, cats, or baseballs; and the sentence ends with a period? This regex should be case-insensitive. It must match the following:\n",
    "'Alice eats apples.'\\\n",
    "'Bob pets cats.'\\\n",
    "'Carol throws baseballs.'\\\n",
    "'Alice throws Apples.'\\\n",
    "'BOB EATS CATS.'\\\n",
    "*but not the following*:\\\n",
    "'RoboCop eats apples.'\\\n",
    "'ALICE THROWS FOOTBALLS.'\\\n",
    "'Carol eats 7 cats.'\n"
   ]
  },
  {
   "cell_type": "code",
   "execution_count": 8,
   "id": "a84944c3-11e0-4af0-8b27-eb577a2cab36",
   "metadata": {},
   "outputs": [
    {
     "name": "stdout",
     "output_type": "stream",
     "text": [
      "Alice eats apples matches\n",
      "Bob pets cats matches\n",
      "Carol throws baseballs matches\n",
      "Alice throws Apples matches\n",
      "BOB EATS CATS matches\n",
      "RoboCop eats apples does not match\n",
      "ALICE THROWS FOOTBALLS does not match\n",
      "Carol eats 7 cats does not match\n"
     ]
    }
   ],
   "source": [
    "import re\n",
    "\n",
    "condition = r'^(alice|bob|carol)\\s(eats|pets|throws)\\s(apples|cats|baseballs)$'\n",
    "pattern = re.compile(condition, re.IGNORECASE)\n",
    "\n",
    "strings = ['Alice eats apples', 'Bob pets cats', 'Carol throws baseballs', 'Alice throws Apples',\n",
    "           'BOB EATS CATS', 'RoboCop eats apples', 'ALICE THROWS FOOTBALLS', 'Carol eats 7 cats']\n",
    "for s in strings:\n",
    "    if pattern.match(s):\n",
    "        print(s, 'matches')\n",
    "    else:\n",
    "        print(s, 'does not match')"
   ]
  },
  {
   "cell_type": "code",
   "execution_count": null,
   "id": "067870b1-807a-4778-87ec-00e02ae66868",
   "metadata": {},
   "outputs": [],
   "source": []
  }
 ],
 "metadata": {
  "kernelspec": {
   "display_name": "Python 3 (ipykernel)",
   "language": "python",
   "name": "python3"
  },
  "language_info": {
   "codemirror_mode": {
    "name": "ipython",
    "version": 3
   },
   "file_extension": ".py",
   "mimetype": "text/x-python",
   "name": "python",
   "nbconvert_exporter": "python",
   "pygments_lexer": "ipython3",
   "version": "3.10.6"
  }
 },
 "nbformat": 4,
 "nbformat_minor": 5
}
