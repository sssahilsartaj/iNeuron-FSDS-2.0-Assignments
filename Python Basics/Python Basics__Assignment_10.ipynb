{
 "cells": [
  {
   "cell_type": "markdown",
   "id": "57b5c9a9-b598-4e1b-b3bb-3b01e5021eb8",
   "metadata": {},
   "source": [
    "# 1. How do you distinguish between shutil.copy() and shutil.copytree()?"
   ]
  },
  {
   "cell_type": "markdown",
   "id": "0acfb46d-9e3a-44c9-ae43-d1e94a2d95d0",
   "metadata": {},
   "source": [
    "Ans:\\\n",
    "`shutil.copy(src, dst)` is used to copy a single file from the source path *(src)* to the destination path *(dst)*. If the dst path exists, the function will overwrite it. If it does not exist, a new file will be created.\n",
    "\n",
    "`shutil.copytree(src, dst)` is used to recursively copy a directory and its contents from the source path *(src)* to the destination path *(dst)*. If the dst directory already exists, the function will raise an error. If it does not exist, a new directory will be created."
   ]
  },
  {
   "cell_type": "markdown",
   "id": "7861bb68-56c9-4914-935d-85e74c94c49e",
   "metadata": {},
   "source": [
    "# 2. What function is used to rename files?"
   ]
  },
  {
   "cell_type": "markdown",
   "id": "75b2db35-26d5-40fc-9e3e-6e70427b8cc7",
   "metadata": {},
   "source": [
    "Ans:\\\n",
    "`os.rename()` function is used to rename files or directories using a python program, this function takes two arguments src and dst, src represents the name file/directory which we want to rename, whereas dst represents the new name of the file/directory."
   ]
  },
  {
   "cell_type": "markdown",
   "id": "2be2c294-00d4-431d-af1b-1916b6bdd6cb",
   "metadata": {},
   "source": [
    "# 3. What is the difference between the delete functions in the send2trash and shutil modules?"
   ]
  },
  {
   "cell_type": "markdown",
   "id": "001c5480-c8bc-4ab6-8f10-5dc0d6521750",
   "metadata": {},
   "source": [
    "Ans:\\\n",
    "The **shutil** module provides the `shutil.rmtree(path)` function, which deletes a directory tree and its contents permanently. Once you use `shutil.rmtree()`, the files are gone and cannot be recovered. It is a more aggressive method of deleting files and directories.\n",
    "\n",
    "On the other hand, the **send2trash** module provides the `send2trash.send2trash(path)` function, which moves a file or directory to the system's trash or recycle bin, depending on the platform. The files can be restored from the trash or recycle bin if needed."
   ]
  },
  {
   "cell_type": "markdown",
   "id": "a76cd96d-25a0-440f-98f3-a96778d61fc9",
   "metadata": {},
   "source": [
    "# 4.ZipFile objects have a close() method just like File objects’ close() method. What ZipFile method is equivalent to File objects’ open() method?"
   ]
  },
  {
   "cell_type": "markdown",
   "id": "502c89b7-8571-4de9-aeac-8055c59cf1f5",
   "metadata": {},
   "source": [
    "Ans:\\\n",
    "The **ZipFile** method that is equivalent to File objects' `open()` method is `ZipFile()` itself.\n",
    "\n",
    "The **ZipFile()** constructor is used to open a ZIP archive file, and it returns a ZipFile object that can be used to read, write, and manipulate the contents of the archive.\n",
    "\n",
    "Example:\\\n",
    "`zipfile.ZipFile('filename', mode = 'r')`"
   ]
  },
  {
   "cell_type": "markdown",
   "id": "3d6f8573-5f65-454e-b271-eb3ddf614f64",
   "metadata": {},
   "source": [
    "# 5. Create a programme that searches a folder tree for files with a certain file extension (such as .pdf or .jpg). Copy these files from whatever location they are in to a new folder."
   ]
  },
  {
   "cell_type": "markdown",
   "id": "f66d476c-c7dc-4662-a018-21d9cd1de0a4",
   "metadata": {},
   "source": [
    "Ans:"
   ]
  },
  {
   "cell_type": "code",
   "execution_count": null,
   "id": "c0eb5aa1-ab79-4ace-baee-db65507d9909",
   "metadata": {},
   "outputs": [],
   "source": [
    "import os\n",
    "import shutil\n",
    "folder_to_search = \"/path/to/folder\"\n",
    "file_extension = \".pdf\" \n",
    "destination_folder = \"/path/to/destination\"\n",
    "if not os.path.exists(destination_folder):\n",
    "    os.makedirs(destination_folder)\n",
    "\n",
    "for root, dirs, files in os.walk(folder_to_search):\n",
    "    for file in files:\n",
    "        if file.endswith(file_extension):\n",
    "            file_path = os.path.join(root, file)\n",
    "            destination_path = os.path.join(destination_folder, file)\n",
    "            shutil.copyfile(file_path, destination_path)\n",
    "            print(f\"Copied {file} to {destination_folder}\")"
   ]
  },
  {
   "cell_type": "code",
   "execution_count": null,
   "id": "f9c78e2f-b9de-40f1-b216-d2b158d10ef7",
   "metadata": {},
   "outputs": [],
   "source": []
  }
 ],
 "metadata": {
  "kernelspec": {
   "display_name": "Python 3 (ipykernel)",
   "language": "python",
   "name": "python3"
  },
  "language_info": {
   "codemirror_mode": {
    "name": "ipython",
    "version": 3
   },
   "file_extension": ".py",
   "mimetype": "text/x-python",
   "name": "python",
   "nbconvert_exporter": "python",
   "pygments_lexer": "ipython3",
   "version": "3.10.6"
  }
 },
 "nbformat": 4,
 "nbformat_minor": 5
}
