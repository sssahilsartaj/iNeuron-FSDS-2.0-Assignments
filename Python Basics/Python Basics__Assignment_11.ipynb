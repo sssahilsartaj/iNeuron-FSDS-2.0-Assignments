{
 "cells": [
  {
   "cell_type": "markdown",
   "id": "15afdd34-d844-48b0-8557-8577b6abd605",
   "metadata": {},
   "source": [
    "# 1. Create an assert statement that throws an AssertionError if the variable spam is a negative integer."
   ]
  },
  {
   "cell_type": "markdown",
   "id": "ad589b64-dd28-4f47-94b4-ed38f0b585c8",
   "metadata": {},
   "source": [
    "Ans:\\\n",
    "In logging we can use a condition with `assert` keyword for getting Exception with our custom exception. In below example, if spam is negative integer assert will raise an exception with sentence *\"spam must be a non-negative integer\"*. assert gets activated whenever boolean value from condition is false."
   ]
  },
  {
   "cell_type": "code",
   "execution_count": 1,
   "id": "eb40f099-c461-418e-bd21-08722fbdc97d",
   "metadata": {},
   "outputs": [
    {
     "ename": "AssertionError",
     "evalue": "spam must be a non-negative integer",
     "output_type": "error",
     "traceback": [
      "\u001b[0;31m---------------------------------------------------------------------------\u001b[0m",
      "\u001b[0;31mAssertionError\u001b[0m                            Traceback (most recent call last)",
      "Cell \u001b[0;32mIn [1], line 3\u001b[0m\n\u001b[1;32m      1\u001b[0m \u001b[38;5;28;01mimport\u001b[39;00m \u001b[38;5;21;01mlogging\u001b[39;00m\n\u001b[1;32m      2\u001b[0m spam \u001b[38;5;241m=\u001b[39m \u001b[38;5;241m-\u001b[39m\u001b[38;5;241m3\u001b[39m\n\u001b[0;32m----> 3\u001b[0m \u001b[38;5;28;01massert\u001b[39;00m spam \u001b[38;5;241m>\u001b[39m\u001b[38;5;241m=\u001b[39m \u001b[38;5;241m0\u001b[39m, \u001b[38;5;124m\"\u001b[39m\u001b[38;5;124mspam must be a non-negative integer\u001b[39m\u001b[38;5;124m\"\u001b[39m\n",
      "\u001b[0;31mAssertionError\u001b[0m: spam must be a non-negative integer"
     ]
    }
   ],
   "source": [
    "import logging\n",
    "spam = -3\n",
    "assert spam >= 0, \"spam must be a non-negative integer\""
   ]
  },
  {
   "cell_type": "markdown",
   "id": "6599d475-3523-41ee-97a7-ecb484b96edc",
   "metadata": {},
   "source": [
    "# 2. Write an assert statement that triggers an AssertionError if the variables eggs and bacon contain strings that are the same as each other, even if their cases are different (that is, &#39;hello&#39; and &#39;hello&#39; are considered the same, and &#39;goodbye&#39; and &#39;GOODbye&#39; are also considered the same)."
   ]
  },
  {
   "cell_type": "code",
   "execution_count": 4,
   "id": "763112e3-c8d6-4848-80ab-20145cb4fea8",
   "metadata": {},
   "outputs": [],
   "source": [
    "import logging\n",
    "\n",
    "def raise_assert(bacon, eggs):\n",
    "    assert bacon.casefold() != eggs.casefold(), \"Values must not be same regardless of casing\""
   ]
  },
  {
   "cell_type": "code",
   "execution_count": 5,
   "id": "7c87bcbb-b7a0-48a2-90f5-4c2b7e01eb2b",
   "metadata": {},
   "outputs": [
    {
     "ename": "AssertionError",
     "evalue": "Values must not be same regardless of casing",
     "output_type": "error",
     "traceback": [
      "\u001b[0;31m---------------------------------------------------------------------------\u001b[0m",
      "\u001b[0;31mAssertionError\u001b[0m                            Traceback (most recent call last)",
      "Cell \u001b[0;32mIn [5], line 1\u001b[0m\n\u001b[0;32m----> 1\u001b[0m \u001b[43mraise_assert\u001b[49m\u001b[43m(\u001b[49m\u001b[38;5;124;43m'\u001b[39;49m\u001b[38;5;124;43mhello\u001b[39;49m\u001b[38;5;124;43m'\u001b[39;49m\u001b[43m,\u001b[49m\u001b[38;5;124;43m'\u001b[39;49m\u001b[38;5;124;43mHELLO\u001b[39;49m\u001b[38;5;124;43m'\u001b[39;49m\u001b[43m)\u001b[49m\n",
      "Cell \u001b[0;32mIn [4], line 4\u001b[0m, in \u001b[0;36mraise_assert\u001b[0;34m(bacon, eggs)\u001b[0m\n\u001b[1;32m      3\u001b[0m \u001b[38;5;28;01mdef\u001b[39;00m \u001b[38;5;21mraise_assert\u001b[39m(bacon, eggs):\n\u001b[0;32m----> 4\u001b[0m     \u001b[38;5;28;01massert\u001b[39;00m bacon\u001b[38;5;241m.\u001b[39mcasefold() \u001b[38;5;241m!=\u001b[39m eggs\u001b[38;5;241m.\u001b[39mcasefold(), \u001b[38;5;124m\"\u001b[39m\u001b[38;5;124mValues must not be same regardless of casing\u001b[39m\u001b[38;5;124m\"\u001b[39m\n",
      "\u001b[0;31mAssertionError\u001b[0m: Values must not be same regardless of casing"
     ]
    }
   ],
   "source": [
    "raise_assert('hello','HELLO')"
   ]
  },
  {
   "cell_type": "code",
   "execution_count": 6,
   "id": "c44f12a0-89de-43a8-89ac-3543471b238f",
   "metadata": {},
   "outputs": [
    {
     "ename": "AssertionError",
     "evalue": "Values must not be same regardless of casing",
     "output_type": "error",
     "traceback": [
      "\u001b[0;31m---------------------------------------------------------------------------\u001b[0m",
      "\u001b[0;31mAssertionError\u001b[0m                            Traceback (most recent call last)",
      "Cell \u001b[0;32mIn [6], line 1\u001b[0m\n\u001b[0;32m----> 1\u001b[0m \u001b[43mraise_assert\u001b[49m\u001b[43m(\u001b[49m\u001b[38;5;124;43m'\u001b[39;49m\u001b[38;5;124;43mgoodbye\u001b[39;49m\u001b[38;5;124;43m'\u001b[39;49m\u001b[43m,\u001b[49m\u001b[38;5;124;43m'\u001b[39;49m\u001b[38;5;124;43mGOODbye\u001b[39;49m\u001b[38;5;124;43m'\u001b[39;49m\u001b[43m)\u001b[49m\n",
      "Cell \u001b[0;32mIn [4], line 4\u001b[0m, in \u001b[0;36mraise_assert\u001b[0;34m(bacon, eggs)\u001b[0m\n\u001b[1;32m      3\u001b[0m \u001b[38;5;28;01mdef\u001b[39;00m \u001b[38;5;21mraise_assert\u001b[39m(bacon, eggs):\n\u001b[0;32m----> 4\u001b[0m     \u001b[38;5;28;01massert\u001b[39;00m bacon\u001b[38;5;241m.\u001b[39mcasefold() \u001b[38;5;241m!=\u001b[39m eggs\u001b[38;5;241m.\u001b[39mcasefold(), \u001b[38;5;124m\"\u001b[39m\u001b[38;5;124mValues must not be same regardless of casing\u001b[39m\u001b[38;5;124m\"\u001b[39m\n",
      "\u001b[0;31mAssertionError\u001b[0m: Values must not be same regardless of casing"
     ]
    }
   ],
   "source": [
    "raise_assert('goodbye','GOODbye')"
   ]
  },
  {
   "cell_type": "markdown",
   "id": "c41390a7-c69c-47cc-8101-f49891b60e70",
   "metadata": {},
   "source": [
    "# 3. Create an assert statement that throws an AssertionError every time."
   ]
  },
  {
   "cell_type": "code",
   "execution_count": 8,
   "id": "73f5a6a1-7191-45d0-af57-b97f70015be6",
   "metadata": {},
   "outputs": [
    {
     "ename": "AssertionError",
     "evalue": "Always Shows Assertion Error",
     "output_type": "error",
     "traceback": [
      "\u001b[0;31m---------------------------------------------------------------------------\u001b[0m",
      "\u001b[0;31mAssertionError\u001b[0m                            Traceback (most recent call last)",
      "Cell \u001b[0;32mIn [8], line 4\u001b[0m\n\u001b[1;32m      1\u001b[0m \u001b[38;5;28;01mdef\u001b[39;00m \u001b[38;5;21massert_always\u001b[39m():\n\u001b[1;32m      2\u001b[0m     \u001b[38;5;28;01massert\u001b[39;00m \u001b[38;5;28;01mFalse\u001b[39;00m, \u001b[38;5;124m'\u001b[39m\u001b[38;5;124mAlways Shows Assertion Error\u001b[39m\u001b[38;5;124m'\u001b[39m\n\u001b[0;32m----> 4\u001b[0m \u001b[43massert_always\u001b[49m\u001b[43m(\u001b[49m\u001b[43m)\u001b[49m\n",
      "Cell \u001b[0;32mIn [8], line 2\u001b[0m, in \u001b[0;36massert_always\u001b[0;34m()\u001b[0m\n\u001b[1;32m      1\u001b[0m \u001b[38;5;28;01mdef\u001b[39;00m \u001b[38;5;21massert_always\u001b[39m():\n\u001b[0;32m----> 2\u001b[0m     \u001b[38;5;28;01massert\u001b[39;00m \u001b[38;5;28;01mFalse\u001b[39;00m, \u001b[38;5;124m'\u001b[39m\u001b[38;5;124mAlways Shows Assertion Error\u001b[39m\u001b[38;5;124m'\u001b[39m\n",
      "\u001b[0;31mAssertionError\u001b[0m: Always Shows Assertion Error"
     ]
    }
   ],
   "source": [
    "def assert_always():\n",
    "    assert False, 'Always Shows Assertion Error'\n",
    "    \n",
    "assert_always()"
   ]
  },
  {
   "cell_type": "markdown",
   "id": "570da9fc-a716-4606-b980-91625543160a",
   "metadata": {},
   "source": [
    "# 4. What are the two lines that must be present in your software in order to call logging.debug()?"
   ]
  },
  {
   "cell_type": "markdown",
   "id": "5ff15d72-4139-40dd-9f2a-44ac71754780",
   "metadata": {},
   "source": [
    "Ans:\\\n",
    "Importing logging module and setting up the configuration is essential."
   ]
  },
  {
   "cell_type": "code",
   "execution_count": 9,
   "id": "166b2227-421e-4c53-acc9-6e0301f6a8a6",
   "metadata": {},
   "outputs": [],
   "source": [
    "import logging\n",
    "logging.basicConfig(filename = 'application_log.txt',level=logging.DEBUG, format=' %(asctime)s - %(levelname)s - %(message)s')"
   ]
  },
  {
   "cell_type": "markdown",
   "id": "d31c76f4-2da0-4ed5-b8b6-19e6d8d5ee54",
   "metadata": {},
   "source": [
    "# 5. What are the two lines that your program must have in order to have logging.debug() send a logging message to a file named programLog.txt?"
   ]
  },
  {
   "cell_type": "code",
   "execution_count": 10,
   "id": "052d4d85-7117-4667-bcde-cc4cb0078fcb",
   "metadata": {},
   "outputs": [],
   "source": [
    "import logging\n",
    "logging.basicConfig(filename = 'application_log.txt',level=logging.DEBUG, format=' %(asctime)s - %(levelname)s - %(message)s')\n",
    "logging.debug(\"Data Inserted Successfully\")\n",
    "logging.debug('Connection Closed Successfully')"
   ]
  },
  {
   "cell_type": "markdown",
   "id": "0b4e8616-2437-46cd-8e60-f8b2077e3717",
   "metadata": {},
   "source": [
    "# 6. What are the five levels of logging?"
   ]
  },
  {
   "cell_type": "markdown",
   "id": "c01d8db4-3036-40d1-aba1-3525e7ab4dc5",
   "metadata": {},
   "source": [
    "Ans:\\\n",
    "`DEBUG(10)`: This level is used for debugging purposes and provides the most detailed information about the application's behavior.\n",
    "\n",
    "`INFO(20)`: This level is used to log informational messages that do not indicate any errors or problems but are useful for understanding the application's behavior.\n",
    "\n",
    "`WARNING(30)`: This level is used to log warning messages that indicate potential problems or errors that may need to be addressed.\n",
    "\n",
    "`ERROR(40)`: This level is used to log error messages that indicate a problem or error that needs to be addressed.\n",
    "\n",
    "`CRITICAL(50)`: The highest level of logging, which is used to log critical errors that may cause the application to stop working or crash."
   ]
  },
  {
   "cell_type": "markdown",
   "id": "0cc63f4b-2ad0-41d3-858a-af8c65008d2a",
   "metadata": {},
   "source": [
    "# 7. What line of code would you add to your software to disable all logging messages?"
   ]
  },
  {
   "cell_type": "code",
   "execution_count": 11,
   "id": "c471ce27-982d-41d7-b4ee-fe0386e21a1f",
   "metadata": {},
   "outputs": [],
   "source": [
    "logging.disable = True"
   ]
  },
  {
   "cell_type": "markdown",
   "id": "a2a2fdd9-5540-43c7-bf48-18f697f9ecf5",
   "metadata": {},
   "source": [
    "# 8.Why is using logging messages better than using print() to display the same message?"
   ]
  },
  {
   "cell_type": "markdown",
   "id": "888045c3-c780-4148-b46e-3abd5cd48899",
   "metadata": {},
   "source": [
    "Ans:\\\n",
    "Post devlopment of the product, we can disable logging messages without removing the logging function, whereas we need to manually remove print() statements, which is a tedious activity, and also print is used when we want to display any particular message or help whereas logging is used to record all events like error, info, debug messages, timestamps."
   ]
  },
  {
   "cell_type": "markdown",
   "id": "c4fabcf7-1c5b-41aa-a466-035070ebd220",
   "metadata": {},
   "source": [
    "# 9. What are the differences between the Step Over, Step In, and Step Out buttons in the debugger?"
   ]
  },
  {
   "cell_type": "markdown",
   "id": "24eb6dde-ddc7-418e-aa65-e39f0af230f4",
   "metadata": {},
   "source": [
    "**Step Over**: This button allows to execute the current line of code and then move to the next line of code. If the current line of code contains a function call, the function call is executed, but the debugger does not stop at the first line of the called function. Instead, it continues to execute the remaining lines of code in the current function.\n",
    "\n",
    "**Step In**: This button allows to step into a function call and execute the first line of code in the called function. If the called function has any additional function calls, the debugger stops at the first line of code in the called function.\n",
    "\n",
    "**Step Out**: This button allows to step out of the current function and return to the calling function. If the current function has any remaining lines of code after the function call, the debugger executes those lines before returning to the calling function."
   ]
  },
  {
   "cell_type": "markdown",
   "id": "7beaf44a-b17d-44fb-a6ff-4a5b7d960f15",
   "metadata": {},
   "source": [
    "# 10.After you click Continue, when will the debugger stop ?"
   ]
  },
  {
   "cell_type": "markdown",
   "id": "b3203b56-89b3-4984-90c2-d29bad889b9c",
   "metadata": {},
   "source": [
    "Ans:\\\n",
    "When you click the `\"Continue\"` button in a debugger, the debugger will continue executing your program without interruption until it encounters a breakpoint, an unhandled exception, or a signal or system event that causes it to stop."
   ]
  },
  {
   "cell_type": "markdown",
   "id": "d6cbafa1-0319-494b-94da-5ab8881bb587",
   "metadata": {},
   "source": [
    "# 11. What is the concept of a breakpoint?"
   ]
  },
  {
   "cell_type": "markdown",
   "id": "c94da6d2-122c-4053-9048-3f9bb6a1da82",
   "metadata": {},
   "source": [
    "Ans:\\\n",
    "Breakpoint is a setting on a line of code that causes the debugger to pause when the program execution reaches the line."
   ]
  },
  {
   "cell_type": "code",
   "execution_count": null,
   "id": "fb30cf97-049f-4418-992d-f6040e40f06f",
   "metadata": {},
   "outputs": [],
   "source": []
  }
 ],
 "metadata": {
  "kernelspec": {
   "display_name": "Python 3 (ipykernel)",
   "language": "python",
   "name": "python3"
  },
  "language_info": {
   "codemirror_mode": {
    "name": "ipython",
    "version": 3
   },
   "file_extension": ".py",
   "mimetype": "text/x-python",
   "name": "python",
   "nbconvert_exporter": "python",
   "pygments_lexer": "ipython3",
   "version": "3.10.6"
  }
 },
 "nbformat": 4,
 "nbformat_minor": 5
}
