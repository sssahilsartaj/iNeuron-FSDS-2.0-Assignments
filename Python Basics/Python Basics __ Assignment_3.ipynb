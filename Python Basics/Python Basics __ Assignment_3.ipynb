{
 "cells": [
  {
   "cell_type": "markdown",
   "id": "a3c1a4a8-a16d-4e1c-8bc9-6de4b4396e36",
   "metadata": {},
   "source": [
    "### 1. Why are functions advantageous to have in your programs?"
   ]
  },
  {
   "cell_type": "markdown",
   "id": "c9a1bfd2-700d-4ce4-90bd-73ee4fdcceb4",
   "metadata": {},
   "source": [
    "**Answer:**\n",
    "\n",
    "1. Functions help break our program into smaller and moduler chunks. As our program grows larger and larger, functions make it more organized and manageable. It avoids repetition and makes code reusable. The main advantage of function is code reusability.\n",
    "\n",
    "2. Functions also improves readability of the code."
   ]
  },
  {
   "cell_type": "markdown",
   "id": "db5f5a29-b7fa-46ee-87a4-322fb428e473",
   "metadata": {},
   "source": [
    "### 2. When does the code in a function run: when it's specified or when it's called?"
   ]
  },
  {
   "cell_type": "markdown",
   "id": "0b6a6445-ff8c-4f22-9cf5-a1d5c3f86eae",
   "metadata": {},
   "source": [
    "**Answer:**\n",
    "\n",
    "The code in a function runs when the function is called."
   ]
  },
  {
   "cell_type": "markdown",
   "id": "511616f7-e3c6-448b-b94b-e1ff012a625b",
   "metadata": {},
   "source": [
    "### 3. What statement creates a function?"
   ]
  },
  {
   "cell_type": "markdown",
   "id": "cf6f981b-3323-4b25-a046-729fc3b6eb2b",
   "metadata": {},
   "source": [
    "**Answer:**\n",
    "\n",
    "The **def** statement defines a function. Let's take an example for this,"
   ]
  },
  {
   "cell_type": "code",
   "execution_count": 2,
   "id": "fc029dd5-fdf8-44e7-80a7-7c4e2298c18f",
   "metadata": {},
   "outputs": [
    {
     "data": {
      "text/plain": [
       "30"
      ]
     },
     "execution_count": 2,
     "metadata": {},
     "output_type": "execute_result"
    }
   ],
   "source": [
    "def sum(a, b): # by using def we can specify a function\n",
    "    return a + b\n",
    "\n",
    "sum(10, 20) # function call"
   ]
  },
  {
   "cell_type": "markdown",
   "id": "7a89f5c7-1c67-47e7-8a2e-9472d7c75ec6",
   "metadata": {},
   "source": [
    "### 4. What is the difference between a function and a function call?"
   ]
  },
  {
   "cell_type": "markdown",
   "id": "43859fb4-d13f-4de1-aa63-26703aa8339f",
   "metadata": {},
   "source": [
    "**Answer:**\n",
    "\n",
    "**Function**: Function is a piece of code within a block defined by **def** statement to achieve a particular job.\n",
    "\n",
    "**Function Call**: Function call is something when we want that job to be done we just call the function method.\n",
    "\n",
    "Let's take the previous example,\n",
    "\n",
    "```\n",
    "def sum(a, b): # Function\n",
    "    return a + b\n",
    "\n",
    "sum(10, 20) # Function call\n",
    "\n",
    "```"
   ]
  },
  {
   "cell_type": "markdown",
   "id": "6eb4f5cf-a6ac-4cd1-a401-2ccd9e6f9939",
   "metadata": {},
   "source": [
    "### 5. How many global scopes are there in a Python program? How many local scopes?"
   ]
  },
  {
   "cell_type": "markdown",
   "id": "0525cce9-ab3c-4f41-b875-5ef998241b42",
   "metadata": {},
   "source": [
    "**Answer:**\n",
    "\n",
    "There is one global scope in Python program.\n",
    "\n",
    "There is one local scope in Python program.\n",
    "\n",
    "This global and local scope is created whenever a function is called."
   ]
  },
  {
   "cell_type": "markdown",
   "id": "7e38cffe-e94b-41de-a58a-8e8af89a60c4",
   "metadata": {},
   "source": [
    "### 6. What happens to variables in a local scope when the function call returns?"
   ]
  },
  {
   "cell_type": "markdown",
   "id": "a5ca41c2-d718-473a-aedb-7fd5d015dd44",
   "metadata": {},
   "source": [
    "**Answer:**\n",
    "\n",
    "When a function is called, a new local scope is created, and when the function returns, the local scope is destroyed."
   ]
  },
  {
   "cell_type": "markdown",
   "id": "2d9ef746-8416-4f27-bcee-cb240fffa59d",
   "metadata": {},
   "source": [
    "### 7. What is the concept of a return value? Is it possible to have a return value in an expression?"
   ]
  },
  {
   "cell_type": "markdown",
   "id": "9e14ec86-588f-4d55-9055-15556b5a7089",
   "metadata": {},
   "source": [
    "**Answer:**\n",
    "\n",
    "Return value is the value that we get after executing the function. We use **return** keyword to get the value.\n",
    "\n",
    "Yes, it is possible to have a return value in an expression."
   ]
  },
  {
   "cell_type": "markdown",
   "id": "477e1e99-6fa4-4ae0-8d22-81772f2d3875",
   "metadata": {},
   "source": [
    "### 8. If a function does not have a return statement, what is the return value of a call to that function?"
   ]
  },
  {
   "cell_type": "markdown",
   "id": "3dd3f128-9ef9-40f7-a551-e7cc647da75d",
   "metadata": {},
   "source": [
    "**Answer:**\n",
    "\n",
    "If there is no return statement for a function, its return value is **None**."
   ]
  },
  {
   "cell_type": "markdown",
   "id": "552c4d5b-c1f4-489f-ad2f-64dbfeb83409",
   "metadata": {},
   "source": [
    "### 9. How do you make a function variable refer to the global variable?"
   ]
  },
  {
   "cell_type": "markdown",
   "id": "48877d6e-5ad6-4ea0-aabd-25a7021240e8",
   "metadata": {},
   "source": [
    "**Answer:**\n",
    "\n",
    "By using **global** Keyword in local scope we can make it accessible even outside of the local scope.\n",
    "\n",
    "Example,"
   ]
  },
  {
   "cell_type": "code",
   "execution_count": 20,
   "id": "d2d1ad57-929e-4051-8d20-7972c0eba0cc",
   "metadata": {},
   "outputs": [
    {
     "name": "stdout",
     "output_type": "stream",
     "text": [
      "3\n"
     ]
    }
   ],
   "source": [
    "# global variable\n",
    "\n",
    "def add():\n",
    "\n",
    "    # use of global keyword\n",
    "    global c\n",
    "    \n",
    "    c = 1\n",
    "\n",
    "    # increment c by 2\n",
    "    c = c + 2 \n",
    "\n",
    "print(c)"
   ]
  },
  {
   "cell_type": "markdown",
   "id": "837958ac-306f-4175-aba7-6ce8816472fc",
   "metadata": {},
   "source": [
    "### 10. What is the data type of None?"
   ]
  },
  {
   "cell_type": "markdown",
   "id": "509102ff-e822-4c6b-8183-845be89d9886",
   "metadata": {},
   "source": [
    "**Answer:**\n",
    "\n",
    "Data type of None is **NoneType**."
   ]
  },
  {
   "cell_type": "markdown",
   "id": "eb257e7f-85bf-4a78-bcde-b447bbd41482",
   "metadata": {},
   "source": [
    "### 11. What does the sentence import areallyourpetsnamederic do?"
   ]
  },
  {
   "cell_type": "code",
   "execution_count": 22,
   "id": "2311be32-c7d7-4014-a824-af927a2f9171",
   "metadata": {},
   "outputs": [
    {
     "ename": "ModuleNotFoundError",
     "evalue": "No module named 'areallyourpetsnamederic'",
     "output_type": "error",
     "traceback": [
      "\u001b[0;31m---------------------------------------------------------------------------\u001b[0m",
      "\u001b[0;31mModuleNotFoundError\u001b[0m                       Traceback (most recent call last)",
      "Cell \u001b[0;32mIn [22], line 1\u001b[0m\n\u001b[0;32m----> 1\u001b[0m \u001b[38;5;28;01mimport\u001b[39;00m \u001b[38;5;21;01mareallyourpetsnamederic\u001b[39;00m\n",
      "\u001b[0;31mModuleNotFoundError\u001b[0m: No module named 'areallyourpetsnamederic'"
     ]
    }
   ],
   "source": [
    "import areallyourpetsnamederic"
   ]
  },
  {
   "cell_type": "markdown",
   "id": "57842d5d-74df-4441-bfc8-df7d60e3e19c",
   "metadata": {},
   "source": [
    "This *areallyourpetsnamederic* sentence do nothing because there is no module named as 'areallyourpetsnamederic'."
   ]
  },
  {
   "cell_type": "markdown",
   "id": "835a8afe-eb0e-4559-bc73-42d5b0612ca3",
   "metadata": {},
   "source": [
    "### 12. If you had a bacon() feature in a spam module, what would you call it after importing spam?"
   ]
  },
  {
   "cell_type": "markdown",
   "id": "5cf69acd-3d7c-4545-b2a7-151c81be4289",
   "metadata": {},
   "source": [
    "**Answer:**\n",
    "\n",
    "If i had a **bacon()** feature in a spam module, after importing the module as\n",
    "```\n",
    "import spam\n",
    "```\n",
    "\n",
    "I will call the bacon() feature by \n",
    "```\n",
    "spam.bacon()\n",
    "```\n",
    "to use the features of bacon()."
   ]
  },
  {
   "cell_type": "markdown",
   "id": "4da46bc4-2684-415b-86bb-66961d8148bb",
   "metadata": {},
   "source": [
    "### 13. What can you do to save a programme from crashing if it encounters an error?"
   ]
  },
  {
   "cell_type": "markdown",
   "id": "17a3f55b-508f-4a86-a72a-896228b3fcaf",
   "metadata": {},
   "source": [
    "**Answer:**\n",
    "\n",
    "If I have to save a programme from crashing if it encounters an error I will copy the line of code that might cause an error in a **try** block and use **except** block to handle the error."
   ]
  },
  {
   "cell_type": "markdown",
   "id": "39581d18-eba6-4527-b461-ba3d0d680595",
   "metadata": {},
   "source": [
    "### 14. What is the purpose of the try clause? What is the purpose of the except clause?"
   ]
  },
  {
   "cell_type": "markdown",
   "id": "88ee9254-bc04-4281-a035-086ad20d7f34",
   "metadata": {},
   "source": [
    "**Answer:**\n",
    "\n",
    "**try**: try clause is used to write the code that may encounter errors and crash our code.\n",
    "\n",
    "**except**: except clause is used to write the code that will be executed when we face an exception inside the try clause."
   ]
  },
  {
   "cell_type": "code",
   "execution_count": null,
   "id": "eee03481-2e2a-41eb-b61b-ebcd116d44c3",
   "metadata": {},
   "outputs": [],
   "source": []
  }
 ],
 "metadata": {
  "kernelspec": {
   "display_name": "Python 3 (ipykernel)",
   "language": "python",
   "name": "python3"
  },
  "language_info": {
   "codemirror_mode": {
    "name": "ipython",
    "version": 3
   },
   "file_extension": ".py",
   "mimetype": "text/x-python",
   "name": "python",
   "nbconvert_exporter": "python",
   "pygments_lexer": "ipython3",
   "version": "3.10.6"
  }
 },
 "nbformat": 4,
 "nbformat_minor": 5
}
