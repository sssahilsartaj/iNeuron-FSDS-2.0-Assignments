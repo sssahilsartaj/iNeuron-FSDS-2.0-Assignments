{
 "cells": [
  {
   "cell_type": "markdown",
   "id": "0ed32e5c-3f40-4f90-a6e4-b09cdaf6647d",
   "metadata": {},
   "source": [
    "### 1.What are the two values of the Boolean data type? How do you write them?"
   ]
  },
  {
   "cell_type": "markdown",
   "id": "5c6df118-e5c3-4df3-a805-c24632d75c10",
   "metadata": {},
   "source": [
    "**Answer:**\n",
    "\n",
    "The two values of the Boolean data types are:\n",
    "    \n",
    "        1. True\n",
    "        2. False\n",
    "        \n",
    "We can write there boolean values as:\n",
    "    "
   ]
  },
  {
   "cell_type": "code",
   "execution_count": 1,
   "id": "1695ffa3-e6fb-40be-bb80-7c2e6835ce35",
   "metadata": {},
   "outputs": [
    {
     "name": "stdout",
     "output_type": "stream",
     "text": [
      "<class 'bool'>\n",
      "<class 'bool'>\n"
     ]
    }
   ],
   "source": [
    "x = True\n",
    "y = False\n",
    "\n",
    "# type of x and y var is boolean\n",
    "print(type(x))\n",
    "print(type(y))"
   ]
  },
  {
   "cell_type": "markdown",
   "id": "6b2ba4f9-9fe3-4d00-98bf-c2628e751017",
   "metadata": {},
   "source": [
    "### 2. What are the three different types of Boolean operators?"
   ]
  },
  {
   "cell_type": "markdown",
   "id": "8531214a-3179-4405-9bc4-f7abbd9b2c0c",
   "metadata": {},
   "source": [
    "**Answer:**\n",
    "\n",
    "The three different types of Boolean operators are:\n",
    "    \n",
    "        1. and\n",
    "        2. or\n",
    "        3. not"
   ]
  },
  {
   "cell_type": "markdown",
   "id": "e960e3fb-a98c-4e29-ba89-412d32a6a42f",
   "metadata": {},
   "source": [
    "### 3. Make a list of each Boolean operator's truth tables (i.e. every possible combination of Boolean values for the operator and what it evaluate )."
   ]
  },
  {
   "cell_type": "markdown",
   "id": "fbc70575-7472-4a0e-9132-88ec22f16030",
   "metadata": {},
   "source": [
    "**Answer:**\n",
    "\n",
    "In Python we have 3 boolean operators that are **and, or, not**.\n",
    "\n",
    "**Truth table of *and* operator**:\n",
    "\n",
    "| **x** | **y** | **x and y** |\n",
    "|:-----:|:-----:|:-----------:|\n",
    "| True  | True  | True        |\n",
    "| True  | False | False       |\n",
    "| False | True  | False       |\n",
    "| False | False | False       |\n",
    "\n",
    "\n",
    "**Truth table of *or* operator**:\n",
    "\n",
    "| **x** | **y** | **x or y** |\n",
    "|:-----:|:-----:|:----------:|\n",
    "| True  | True  | True       |\n",
    "| True  | False | True       |\n",
    "| False | True  | True       |\n",
    "| False | False | False      |\n",
    "\n",
    "\n",
    "**Truth table of *not* operator**:\n",
    "\n",
    "| **x** | **not x** |\n",
    "|:-----:|:---------:|\n",
    "| True  | False     |\n",
    "| False | True      |\n"
   ]
  },
  {
   "cell_type": "markdown",
   "id": "fcc5ef82-2903-4c6c-96a3-41abbbc97c00",
   "metadata": {},
   "source": [
    "### 4. What are the values of the following expressions?\n",
    "(5 > 4) and (3 == 5) \\\n",
    "not (5 > 4) \\\n",
    "(5 > 4) or (3 == 5) \\\n",
    "not ((5 > 4) or (3 == 5)) \\\n",
    "(True and True) and (True == False) \\\n",
    "(not False) or (not True)\n"
   ]
  },
  {
   "cell_type": "code",
   "execution_count": 2,
   "id": "91ccd8bb-9a68-4e21-99b8-6899ad3170fb",
   "metadata": {},
   "outputs": [
    {
     "data": {
      "text/plain": [
       "False"
      ]
     },
     "execution_count": 2,
     "metadata": {},
     "output_type": "execute_result"
    }
   ],
   "source": [
    "(5 > 4) and (3 == 5)"
   ]
  },
  {
   "cell_type": "code",
   "execution_count": 3,
   "id": "5d84e7d5-6b04-47c4-a51f-203a04a84030",
   "metadata": {},
   "outputs": [
    {
     "data": {
      "text/plain": [
       "False"
      ]
     },
     "execution_count": 3,
     "metadata": {},
     "output_type": "execute_result"
    }
   ],
   "source": [
    "not (5 > 4)"
   ]
  },
  {
   "cell_type": "code",
   "execution_count": 4,
   "id": "7ba424aa-f140-45fe-9b01-606852501a48",
   "metadata": {},
   "outputs": [
    {
     "data": {
      "text/plain": [
       "True"
      ]
     },
     "execution_count": 4,
     "metadata": {},
     "output_type": "execute_result"
    }
   ],
   "source": [
    "(5 > 4) or (3 == 5)"
   ]
  },
  {
   "cell_type": "code",
   "execution_count": 5,
   "id": "f17f6167-9f3e-4edc-9056-9c2c107f4ca0",
   "metadata": {},
   "outputs": [
    {
     "data": {
      "text/plain": [
       "False"
      ]
     },
     "execution_count": 5,
     "metadata": {},
     "output_type": "execute_result"
    }
   ],
   "source": [
    "not ((5 > 4) or (3 == 5))"
   ]
  },
  {
   "cell_type": "code",
   "execution_count": 6,
   "id": "845a63e6-31df-46bc-b27f-f17138eb550e",
   "metadata": {},
   "outputs": [
    {
     "data": {
      "text/plain": [
       "False"
      ]
     },
     "execution_count": 6,
     "metadata": {},
     "output_type": "execute_result"
    }
   ],
   "source": [
    "(True and True) and (True == False)"
   ]
  },
  {
   "cell_type": "code",
   "execution_count": 7,
   "id": "6766e8aa-ecc2-4e23-97cd-897d22664487",
   "metadata": {},
   "outputs": [
    {
     "data": {
      "text/plain": [
       "True"
      ]
     },
     "execution_count": 7,
     "metadata": {},
     "output_type": "execute_result"
    }
   ],
   "source": [
    "(not False) or (not True)"
   ]
  },
  {
   "cell_type": "markdown",
   "id": "f270e3b9-1679-45ed-9e75-c661d42643a9",
   "metadata": {},
   "source": [
    "### 5. What are the six comparison operators?"
   ]
  },
  {
   "cell_type": "markdown",
   "id": "c3a3ebac-377a-4a6a-8f57-2804d588598e",
   "metadata": {},
   "source": [
    "**Answer:**\n",
    "\n",
    "Used to **compare values** and it returns only **True or False** according to the condition\n",
    "\n",
    "\\>, <, ==, !=, >=, <= are comparision operators.\n",
    "\n",
    "\n",
    "|Operation|Meaning|\n",
    "|:-:|:-:|\n",
    "| **>** |greater than|\n",
    "| **<** |less than|\n",
    "| **==** |equal equal|\n",
    "| **!=** |not equal|\n",
    "| **>=** |greater than equal|\n",
    "| **<=** |less than equal|"
   ]
  },
  {
   "cell_type": "markdown",
   "id": "5c7e5b3e-39f8-4772-a47b-6a884fb3243c",
   "metadata": {},
   "source": [
    "### 6. How do you tell the difference between the equal to and assignment operators? Describe a condition and when you would use one."
   ]
  },
  {
   "cell_type": "markdown",
   "id": "ed4f6ee8-ff34-427c-932c-2ff3a1d75737",
   "metadata": {},
   "source": [
    "**Answer:**\n",
    "\n",
    "The \"equal to\" operator (**==**) is used to compare the equality of two values, whereas the \"assignment\" operator (**=**) is used to assign a value to a variable.\n",
    "\n",
    "Let, take an example to understand this better,"
   ]
  },
  {
   "cell_type": "code",
   "execution_count": 8,
   "id": "9f627ae0-f0e7-4141-a011-9f18deeef828",
   "metadata": {},
   "outputs": [
    {
     "name": "stdout",
     "output_type": "stream",
     "text": [
      "Hello Sartaj\n"
     ]
    }
   ],
   "source": [
    "name = \"Sartaj\" # = assignment operator is using for storing the data to the name var\n",
    "\n",
    "if name == \"Sartaj\": # == equal to operator is using for comparing the value is equal to ot not\n",
    "    print(\"Hello Sartaj\")\n",
    "else:\n",
    "    print(\"You are not Sartaj\")"
   ]
  },
  {
   "cell_type": "markdown",
   "id": "99e85c4d-6fa5-4b19-9f14-f87f77c121a3",
   "metadata": {},
   "source": [
    "### 7. Identify the three blocks in this code:\n",
    "```\n",
    "spam = 0\n",
    "if spam == 10:\n",
    "print('eggs')\n",
    "if spam > 5:\n",
    "print('bacon')\n",
    "else:\n",
    "print('ham')\n",
    "print('spam')\n",
    "print('spam')\n",
    "```"
   ]
  },
  {
   "cell_type": "code",
   "execution_count": 9,
   "id": "e3981420-7bec-49f8-a880-e2ace1114ac3",
   "metadata": {},
   "outputs": [
    {
     "name": "stdout",
     "output_type": "stream",
     "text": [
      "ham\n",
      "spam\n",
      "spam\n"
     ]
    }
   ],
   "source": [
    "spam = 0\n",
    "if spam == 10: #first block\n",
    "    print('eggs')\n",
    "    \n",
    "if spam > 5: # second block\n",
    "    print('bacon')\n",
    "    \n",
    "else: # third block\n",
    "    print('ham')\n",
    "    print('spam')\n",
    "    print('spam')"
   ]
  },
  {
   "cell_type": "markdown",
   "id": "290d1faa-2205-4a00-9740-983f6dc493c5",
   "metadata": {},
   "source": [
    "### 8. Write code that prints Hello if 1 is stored in spam, prints Howdy if 2 is stored in spam, and prints Greetings! if anything else is stored in spam."
   ]
  },
  {
   "cell_type": "code",
   "execution_count": 10,
   "id": "b678c05c-28a6-4f94-9cb7-7d80558779cb",
   "metadata": {},
   "outputs": [
    {
     "name": "stdin",
     "output_type": "stream",
     "text": [
      "Enter an integer value:  1\n"
     ]
    },
    {
     "name": "stdout",
     "output_type": "stream",
     "text": [
      "Hello\n"
     ]
    }
   ],
   "source": [
    "spam = int(input(\"Enter an integer value: \"))\n",
    "\n",
    "if spam == 1:\n",
    "    print(\"Hello\")\n",
    "else:\n",
    "    if spam ==2:\n",
    "        print(\"Howdy\")\n",
    "    else:\n",
    "        print(\"Greetings!\")"
   ]
  },
  {
   "cell_type": "markdown",
   "id": "8f7e67a0-e851-47b9-843a-0e0773bcfd1f",
   "metadata": {},
   "source": [
    "### 9.If your programme is stuck in an endless loop, what keys you’ll press?"
   ]
  },
  {
   "cell_type": "markdown",
   "id": "fdccf38d-b280-4c71-8456-8728248deb07",
   "metadata": {},
   "source": [
    "**Answer:**\n",
    "\n",
    "If my programme is stuck in an endless loop, then I'll Press **Ctrl + c** to stop the program."
   ]
  },
  {
   "cell_type": "markdown",
   "id": "49497f3b-1412-47b4-b47c-bd291f2d4078",
   "metadata": {},
   "source": [
    "### 10. How can you tell the difference between break and continue?"
   ]
  },
  {
   "cell_type": "markdown",
   "id": "2bd49975-2423-4d47-a2de-cfa8be436568",
   "metadata": {},
   "source": [
    "**Answer:**\n",
    "\n",
    "The break statement will move the execution outside the loop if break condtion is satisfied, whereas the continue statement will move the execution to the start of the loop that is it will skip it.\n",
    "\n",
    "Let's take an example to get more clarity,"
   ]
  },
  {
   "cell_type": "code",
   "execution_count": 11,
   "id": "337989db-5acf-4661-8073-50335060ddcf",
   "metadata": {},
   "outputs": [
    {
     "name": "stdout",
     "output_type": "stream",
     "text": [
      "0\n",
      "1\n",
      "2\n",
      "3\n"
     ]
    }
   ],
   "source": [
    "# example of break statement\n",
    "for i in range(7):\n",
    "    if i == 4:\n",
    "        break # breaks the loop when satisfied with the condition\n",
    "    print(i)"
   ]
  },
  {
   "cell_type": "code",
   "execution_count": 12,
   "id": "38069065-82ca-495a-9e16-3905feee375a",
   "metadata": {},
   "outputs": [
    {
     "name": "stdout",
     "output_type": "stream",
     "text": [
      "0\n",
      "1\n",
      "2\n",
      "3\n",
      "5\n",
      "6\n"
     ]
    }
   ],
   "source": [
    "# example of continue statement\n",
    "for i in range(7):\n",
    "    if i == 4:\n",
    "        continue # continue the loop to the start if condition satisfied\n",
    "    print(i)"
   ]
  },
  {
   "cell_type": "markdown",
   "id": "4abbc617-23e0-47f4-906f-a02ef4fb9aab",
   "metadata": {},
   "source": [
    "### 11. In a for loop, what is the difference between range(10), range(0, 10), and range(0, 10, 1)?"
   ]
  },
  {
   "cell_type": "markdown",
   "id": "81f926d6-9556-4bd3-b033-74032568aa85",
   "metadata": {},
   "source": [
    "**Answer:**\n",
    "\n",
    "Let's take example for the difference,"
   ]
  },
  {
   "cell_type": "code",
   "execution_count": 13,
   "id": "c8c2dc8a-19dd-435e-80be-4d3c4a07cc3f",
   "metadata": {},
   "outputs": [
    {
     "name": "stdout",
     "output_type": "stream",
     "text": [
      "0\n",
      "1\n",
      "2\n",
      "3\n",
      "4\n",
      "5\n",
      "6\n",
      "7\n",
      "8\n",
      "9\n"
     ]
    }
   ],
   "source": [
    "for i in range(10):\n",
    "    print(i)"
   ]
  },
  {
   "cell_type": "code",
   "execution_count": 14,
   "id": "d2ebc21b-cc82-4d07-a949-b876c6bdb5d4",
   "metadata": {},
   "outputs": [
    {
     "name": "stdout",
     "output_type": "stream",
     "text": [
      "0\n",
      "1\n",
      "2\n",
      "3\n",
      "4\n",
      "5\n",
      "6\n",
      "7\n",
      "8\n",
      "9\n"
     ]
    }
   ],
   "source": [
    "for i in range(0, 10):\n",
    "    print(i)"
   ]
  },
  {
   "cell_type": "code",
   "execution_count": 15,
   "id": "bae78286-b045-47fe-ba61-6cb19434f7e1",
   "metadata": {},
   "outputs": [
    {
     "name": "stdout",
     "output_type": "stream",
     "text": [
      "0\n",
      "1\n",
      "2\n",
      "3\n",
      "4\n",
      "5\n",
      "6\n",
      "7\n",
      "8\n",
      "9\n"
     ]
    }
   ],
   "source": [
    "for i in range(0, 10, 1):\n",
    "    print(i)"
   ]
  },
  {
   "cell_type": "markdown",
   "id": "3543199a-730f-417b-a4a4-39ee51d74e9f",
   "metadata": {},
   "source": [
    "As we can see there is no output difference between these *range(10), range(0, 10),* and *range(0, 10, 1)* but technically there is a huge difference between these 3 cases, so before that let's understand the defination of **range() function**.\n",
    "\n",
    "We can generate a sequence of numbers using range() function.\n",
    "\n",
    "    eg. range(10) will generate numbers from 0 to 9 (10 numbers)\n",
    "\n",
    "range() function has the start, stop, and step size as range(start, stop, step size). By default start is 0 and step size is 1 if not provided.\n",
    "\n",
    "This function does not store all the values in memory, it would be inefficient. So it remembers the start, stop, step size and generates the next number on the go.\n",
    "\n",
    "Here, for the above 3-cases\n",
    "\n",
    "    1. The rang(10) -->  start=0 by default, end=10 so range from 0 to 9 (exclude 10)\n",
    "    2. The range(0,10) -->  start=0, end=10 so generate 0 to 9 (exclude 10)\n",
    "    3. The range(0,10,1) --> start=0, end=10, step size=1 so generate 0 to 9 with increase the variable by 1 on each iteration"
   ]
  },
  {
   "cell_type": "markdown",
   "id": "33bf6e8c-6e48-4814-911d-684971e33c02",
   "metadata": {},
   "source": [
    "### 12. Write a short program that prints the numbers 1 to 10 using a for loop. Then write an equivalent program that prints the numbers 1 to 10 using a while loop."
   ]
  },
  {
   "cell_type": "code",
   "execution_count": 16,
   "id": "6417058a-01af-411e-8cbb-3ca675ae3451",
   "metadata": {},
   "outputs": [
    {
     "name": "stdout",
     "output_type": "stream",
     "text": [
      "1\n",
      "2\n",
      "3\n",
      "4\n",
      "5\n",
      "6\n",
      "7\n",
      "8\n",
      "9\n",
      "10\n"
     ]
    }
   ],
   "source": [
    "# print 1 to 10 using for loop\n",
    "\n",
    "for i in range(1,11):\n",
    "    print(i)"
   ]
  },
  {
   "cell_type": "code",
   "execution_count": 17,
   "id": "70f06b28-7130-4bbf-9a5c-bf2d2f8473e6",
   "metadata": {},
   "outputs": [
    {
     "name": "stdout",
     "output_type": "stream",
     "text": [
      "1\n",
      "2\n",
      "3\n",
      "4\n",
      "5\n",
      "6\n",
      "7\n",
      "8\n",
      "9\n",
      "10\n"
     ]
    }
   ],
   "source": [
    "# print 1 to 10 using while loop\n",
    "\n",
    "i = 1\n",
    "while i < 11:\n",
    "    print(i)\n",
    "    i = i+1"
   ]
  },
  {
   "cell_type": "markdown",
   "id": "5a3d2e77-f57f-4fbe-a2ce-12aefe34a161",
   "metadata": {},
   "source": [
    "### 13. If you had a function named bacon() inside a module named spam, how would you call it after importing spam?"
   ]
  },
  {
   "cell_type": "markdown",
   "id": "8a8b87e5-cd22-4ae4-8e14-3be62cc0716c",
   "metadata": {},
   "source": [
    "**Answer:**\n",
    "\n",
    "I can call the bacon() function inside a module named spam after importing spam like this,\n",
    "\n",
    "`\n",
    "spam.bacon()\n",
    "`"
   ]
  },
  {
   "cell_type": "code",
   "execution_count": null,
   "id": "d7763796-a2ba-4bd8-8630-98b0727922ca",
   "metadata": {},
   "outputs": [],
   "source": []
  }
 ],
 "metadata": {
  "kernelspec": {
   "display_name": "Python 3 (ipykernel)",
   "language": "python",
   "name": "python3"
  },
  "language_info": {
   "codemirror_mode": {
    "name": "ipython",
    "version": 3
   },
   "file_extension": ".py",
   "mimetype": "text/x-python",
   "name": "python",
   "nbconvert_exporter": "python",
   "pygments_lexer": "ipython3",
   "version": "3.10.6"
  }
 },
 "nbformat": 4,
 "nbformat_minor": 5
}
