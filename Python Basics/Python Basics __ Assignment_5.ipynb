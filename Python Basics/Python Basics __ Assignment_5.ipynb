{
 "cells": [
  {
   "cell_type": "markdown",
   "id": "442159a6-b6e7-4b0d-896b-f3ab8ea24ca5",
   "metadata": {},
   "source": [
    "### 1. What does an empty dictionary's code look like?"
   ]
  },
  {
   "cell_type": "markdown",
   "id": "91835389-cbed-4746-8251-7b06babc4102",
   "metadata": {},
   "source": [
    "**Answer:**\n",
    "\n",
    "An empty dictionary's code look like empty curly braces i.e., {}.\n",
    "\n",
    "Example:"
   ]
  },
  {
   "cell_type": "code",
   "execution_count": 18,
   "id": "f4c25ffd-6e88-45a3-98a5-9a92b3f144c3",
   "metadata": {},
   "outputs": [
    {
     "name": "stdout",
     "output_type": "stream",
     "text": [
      "<class 'dict'>\n"
     ]
    }
   ],
   "source": [
    "my_dict = {}\n",
    "print(type(my_dict))"
   ]
  },
  {
   "cell_type": "markdown",
   "id": "d0bc11b0-4bca-4a27-82ab-dd1ef0b0d5dc",
   "metadata": {},
   "source": [
    "### 2. What is the value of a dictionary value with the key 'foo' and the value 42?"
   ]
  },
  {
   "cell_type": "code",
   "execution_count": 19,
   "id": "47a92fca-25aa-4327-958c-85b14c8d91cc",
   "metadata": {},
   "outputs": [
    {
     "name": "stdout",
     "output_type": "stream",
     "text": [
      "42\n"
     ]
    }
   ],
   "source": [
    "my_dict = {'foo': 42}\n",
    "\n",
    "print(my_dict['foo'])"
   ]
  },
  {
   "cell_type": "markdown",
   "id": "7a73a5ba-13b7-4282-b963-51d2becc8911",
   "metadata": {},
   "source": [
    "### 3. What is the most significant distinction between a dictionary and a list?"
   ]
  },
  {
   "cell_type": "markdown",
   "id": "5696e34b-6035-4122-a675-8a88f6e50447",
   "metadata": {},
   "source": [
    "**Answer:**\n",
    "\n",
    "The most significant distinction between a dict and a list is, \n",
    "\n",
    "dictinary's are enclosed with the curly braces i.e., **{}**, whereas list's are enclosed with the third bracket i.e., **[]**."
   ]
  },
  {
   "cell_type": "markdown",
   "id": "acdb25bc-591c-40cd-8822-8ad26c88450b",
   "metadata": {},
   "source": [
    "### 4. What happens if you try to access spam['foo'] if spam is {'bar': 100}?"
   ]
  },
  {
   "cell_type": "code",
   "execution_count": 20,
   "id": "d1a5a28c-5b81-4343-a2c2-0d6dd09fa37d",
   "metadata": {},
   "outputs": [
    {
     "ename": "KeyError",
     "evalue": "'foo'",
     "output_type": "error",
     "traceback": [
      "\u001b[0;31m---------------------------------------------------------------------------\u001b[0m",
      "\u001b[0;31mKeyError\u001b[0m                                  Traceback (most recent call last)",
      "Cell \u001b[0;32mIn [20], line 2\u001b[0m\n\u001b[1;32m      1\u001b[0m spam \u001b[38;5;241m=\u001b[39m {\u001b[38;5;124m'\u001b[39m\u001b[38;5;124mbar\u001b[39m\u001b[38;5;124m'\u001b[39m: \u001b[38;5;241m100\u001b[39m}\n\u001b[0;32m----> 2\u001b[0m \u001b[43mspam\u001b[49m\u001b[43m[\u001b[49m\u001b[38;5;124;43m'\u001b[39;49m\u001b[38;5;124;43mfoo\u001b[39;49m\u001b[38;5;124;43m'\u001b[39;49m\u001b[43m]\u001b[49m\n",
      "\u001b[0;31mKeyError\u001b[0m: 'foo'"
     ]
    }
   ],
   "source": [
    "spam = {'bar': 100}\n",
    "spam['foo']"
   ]
  },
  {
   "cell_type": "markdown",
   "id": "1c7ec97a-3a6f-4475-89dd-68d8d2c3849d",
   "metadata": {},
   "source": [
    "If we do like that then we get **KeyError: 'foo'**"
   ]
  },
  {
   "cell_type": "markdown",
   "id": "011ebeae-84b8-4e04-b007-6ecb135c3fcc",
   "metadata": {},
   "source": [
    "### 5. If a dictionary is stored in spam, what is the difference between the expressions 'cat' in spam and 'cat' in spam.keys()?"
   ]
  },
  {
   "cell_type": "code",
   "execution_count": 21,
   "id": "a08ca00d-aa4a-47b8-b3dc-32a8dcced475",
   "metadata": {},
   "outputs": [
    {
     "name": "stdout",
     "output_type": "stream",
     "text": [
      "dict_keys(['cat'])\n"
     ]
    }
   ],
   "source": [
    "spam = {'cat': 'xyz'}\n",
    "\n",
    "print(spam.keys())"
   ]
  },
  {
   "cell_type": "code",
   "execution_count": 22,
   "id": "4e01d963-1165-4f02-a829-a92a7c61d1b6",
   "metadata": {},
   "outputs": [
    {
     "data": {
      "text/plain": [
       "True"
      ]
     },
     "execution_count": 22,
     "metadata": {},
     "output_type": "execute_result"
    }
   ],
   "source": [
    "'cat' in spam"
   ]
  },
  {
   "cell_type": "code",
   "execution_count": 23,
   "id": "9265c481-f165-479f-8cbd-d1ae56fe736a",
   "metadata": {},
   "outputs": [
    {
     "data": {
      "text/plain": [
       "True"
      ]
     },
     "execution_count": 23,
     "metadata": {},
     "output_type": "execute_result"
    }
   ],
   "source": [
    "'cat' in spam.keys()"
   ]
  },
  {
   "cell_type": "markdown",
   "id": "fd00583c-aeee-43c0-b898-b42af2c5fae2",
   "metadata": {},
   "source": [
    "Both output is same as True as there is no difference in betweeb these two cases."
   ]
  },
  {
   "cell_type": "markdown",
   "id": "6194d6d1-e22a-4444-a0e3-5bbf5a8ee74b",
   "metadata": {},
   "source": [
    "### 6. If a dictionary is stored in spam, what is the difference between the expressions 'cat' in spam and 'cat' in spam.values()?"
   ]
  },
  {
   "cell_type": "code",
   "execution_count": 24,
   "id": "1f53ae88-c0a1-465b-83c3-567ed6f6e660",
   "metadata": {},
   "outputs": [
    {
     "name": "stdout",
     "output_type": "stream",
     "text": [
      "dict_values(['xyz'])\n"
     ]
    }
   ],
   "source": [
    "spam = {'cat': 'xyz'}\n",
    "\n",
    "print(spam.values())"
   ]
  },
  {
   "cell_type": "code",
   "execution_count": 25,
   "id": "08c15f36-77bb-4c5d-83a5-f19c40f782a1",
   "metadata": {},
   "outputs": [
    {
     "data": {
      "text/plain": [
       "True"
      ]
     },
     "execution_count": 25,
     "metadata": {},
     "output_type": "execute_result"
    }
   ],
   "source": [
    "'cat' in spam"
   ]
  },
  {
   "cell_type": "code",
   "execution_count": 26,
   "id": "cb0b3bcb-f15d-45a8-a4d3-daf612a47461",
   "metadata": {},
   "outputs": [
    {
     "data": {
      "text/plain": [
       "False"
      ]
     },
     "execution_count": 26,
     "metadata": {},
     "output_type": "execute_result"
    }
   ],
   "source": [
    "'cat' in spam.values()"
   ]
  },
  {
   "cell_type": "markdown",
   "id": "64346be1-02af-4af1-8bc4-80484aacac43",
   "metadata": {},
   "source": [
    "`'cat' in spam` checks whether there is a 'cat' key in the dictionary, whereas `'cat' in spam.values()` checks whether there is a value of 'cat' in  one of the keys in spam. So both the output is not same."
   ]
  },
  {
   "cell_type": "markdown",
   "id": "f158843a-f401-4cee-a042-962d46303c07",
   "metadata": {},
   "source": [
    "### 7. What is a shortcut for the following code?\n",
    "if 'color' not in spam:\\\n",
    "spam['color'] = 'black'\n"
   ]
  },
  {
   "cell_type": "markdown",
   "id": "543cc3ac-f964-4cfe-bfd4-8f3a84c9ead1",
   "metadata": {},
   "source": [
    "**Answer:**\n",
    "\n",
    "`product.setdefault('color', 'black')`"
   ]
  },
  {
   "cell_type": "markdown",
   "id": "02de6028-4275-40b3-94e2-fd694960a7ed",
   "metadata": {},
   "source": [
    "### 8. How do you \"pretty print\" dictionary values using which module and function?"
   ]
  },
  {
   "cell_type": "markdown",
   "id": "e7563aea-7d28-45f0-834c-23c64af3fb76",
   "metadata": {},
   "source": [
    "**Answer:**\n",
    "\n",
    "By using `pprint` module we can print our dictionary's values.\n"
   ]
  },
  {
   "cell_type": "code",
   "execution_count": 27,
   "id": "8e76c0ce-2cef-4b16-838e-e757c01ca65a",
   "metadata": {},
   "outputs": [
    {
     "name": "stdout",
     "output_type": "stream",
     "text": [
      "{'chu': 36, 'foo': 42}\n"
     ]
    }
   ],
   "source": [
    "import pprint\n",
    "\n",
    "my_dict = {'foo': 42, 'chu': 36}\n",
    "\n",
    "pprint.pprint(my_dict)"
   ]
  },
  {
   "cell_type": "code",
   "execution_count": null,
   "id": "d7f366ef-ab6a-43a9-b4b0-81cdeb396320",
   "metadata": {},
   "outputs": [],
   "source": []
  },
  {
   "cell_type": "code",
   "execution_count": null,
   "id": "b70c5e16-1cc3-469b-8c69-3a699d137da4",
   "metadata": {},
   "outputs": [],
   "source": []
  },
  {
   "cell_type": "code",
   "execution_count": null,
   "id": "4fdd3889-e6b2-44cd-bd98-b5de0676932f",
   "metadata": {},
   "outputs": [],
   "source": []
  }
 ],
 "metadata": {
  "kernelspec": {
   "display_name": "Python 3 (ipykernel)",
   "language": "python",
   "name": "python3"
  },
  "language_info": {
   "codemirror_mode": {
    "name": "ipython",
    "version": 3
   },
   "file_extension": ".py",
   "mimetype": "text/x-python",
   "name": "python",
   "nbconvert_exporter": "python",
   "pygments_lexer": "ipython3",
   "version": "3.10.6"
  }
 },
 "nbformat": 4,
 "nbformat_minor": 5
}
