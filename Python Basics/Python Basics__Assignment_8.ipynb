{
 "cells": [
  {
   "cell_type": "markdown",
   "id": "073d6b2f-fb54-4dd8-82e8-cc412ce01a1b",
   "metadata": {},
   "source": [
    "# 1. Is the Python Standard Library included with PyInputPlus?"
   ]
  },
  {
   "cell_type": "markdown",
   "id": "ea658944-1727-478c-8312-74c8e73fda23",
   "metadata": {},
   "source": [
    "Ans: \\\n",
    "No, *PyInputPlus* is not a part of Python Standard Library, it needs to be installed explicitly using the command `!pip install PyInputPlus`"
   ]
  },
  {
   "cell_type": "code",
   "execution_count": 2,
   "id": "9932493f-d15d-4f4a-a817-b0cd7bd0ded2",
   "metadata": {},
   "outputs": [
    {
     "name": "stdout",
     "output_type": "stream",
     "text": [
      "Collecting PyInputPlus\n",
      "  Downloading PyInputPlus-0.2.12.tar.gz (20 kB)\n",
      "  Installing build dependencies ... \u001b[?25ldone\n",
      "\u001b[?25h  Getting requirements to build wheel ... \u001b[?25ldone\n",
      "\u001b[?25h  Preparing metadata (pyproject.toml) ... \u001b[?25ldone\n",
      "\u001b[?25hCollecting pysimplevalidate>=0.2.7\n",
      "  Downloading PySimpleValidate-0.2.12.tar.gz (22 kB)\n",
      "  Installing build dependencies ... \u001b[?25ldone\n",
      "\u001b[?25h  Getting requirements to build wheel ... \u001b[?25ldone\n",
      "\u001b[?25h  Preparing metadata (pyproject.toml) ... \u001b[?25ldone\n",
      "\u001b[?25hCollecting stdiomask>=0.0.3\n",
      "  Downloading stdiomask-0.0.6.tar.gz (3.6 kB)\n",
      "  Installing build dependencies ... \u001b[?25ldone\n",
      "\u001b[?25h  Getting requirements to build wheel ... \u001b[?25ldone\n",
      "\u001b[?25h  Preparing metadata (pyproject.toml) ... \u001b[?25ldone\n",
      "\u001b[?25hBuilding wheels for collected packages: PyInputPlus, pysimplevalidate, stdiomask\n",
      "  Building wheel for PyInputPlus (pyproject.toml) ... \u001b[?25ldone\n",
      "\u001b[?25h  Created wheel for PyInputPlus: filename=PyInputPlus-0.2.12-py3-none-any.whl size=11297 sha256=ae52c990226a5db320ba08d40dea56a4c9fee4dea22e81c94599716a2cdeb6f5\n",
      "  Stored in directory: /home/jovyan/.cache/pip/wheels/2d/72/d9/818396cecb072b3d697a47b007d9bbad74859a83a635e47d4d\n",
      "  Building wheel for pysimplevalidate (pyproject.toml) ... \u001b[?25ldone\n",
      "\u001b[?25h  Created wheel for pysimplevalidate: filename=PySimpleValidate-0.2.12-py3-none-any.whl size=16176 sha256=a789504a7e2e2a65d3586c23eea7574415c2ce51f6afab630dde161dde18f47a\n",
      "  Stored in directory: /home/jovyan/.cache/pip/wheels/05/ad/4d/7289d8b9a519e88167728584876a1a1073a3f71666d875aba7\n",
      "  Building wheel for stdiomask (pyproject.toml) ... \u001b[?25ldone\n",
      "\u001b[?25h  Created wheel for stdiomask: filename=stdiomask-0.0.6-py3-none-any.whl size=3306 sha256=b663dd4f3a269ed7684a29a43c7adc91b5c2d7ada747037b0e883fd1e7a03570\n",
      "  Stored in directory: /home/jovyan/.cache/pip/wheels/41/ee/55/6e4b70f6248b280caae3d938bc543206bb1a75988b739f1238\n",
      "Successfully built PyInputPlus pysimplevalidate stdiomask\n",
      "Installing collected packages: stdiomask, pysimplevalidate, PyInputPlus\n",
      "Successfully installed PyInputPlus-0.2.12 pysimplevalidate-0.2.12 stdiomask-0.0.6\n"
     ]
    }
   ],
   "source": [
    "!pip install PyInputPlus"
   ]
  },
  {
   "cell_type": "markdown",
   "id": "04873887-2549-4ab5-a306-616c86862a0d",
   "metadata": {},
   "source": [
    "# 2. Why is PyInputPlus commonly imported with import pyinputplus as pypi?"
   ]
  },
  {
   "cell_type": "markdown",
   "id": "08803f65-6efa-4c50-937d-596d3c7666ac",
   "metadata": {},
   "source": [
    "Ans: \\\n",
    "PyInputPlus is commonly imported with the alias `pypi` (pypi: Python Package Index) to make it easier and more concise to use in the code."
   ]
  },
  {
   "cell_type": "markdown",
   "id": "1baf6133-57da-4dc0-845c-1162e33652ce",
   "metadata": {},
   "source": [
    "# 3. How do you distinguish between inputInt() and inputFloat()?"
   ]
  },
  {
   "cell_type": "markdown",
   "id": "01c1a5d0-628e-408b-b91e-7695715e1947",
   "metadata": {},
   "source": [
    "Ans: \\\n",
    "`inputInt()` function accepts an integer value. This function also takes additional parameters such as **min, max, greaterThan and lessThan** for bounds. `inputInt()` function always returns an **int**.\n",
    "\n",
    "Whereas the `inputFloat()` function accepts a floating-point numeric value. This function also takes additional parameters such as **min, max, greaterThan and lessThan** and always returns a **float**.\n"
   ]
  },
  {
   "cell_type": "code",
   "execution_count": 3,
   "id": "aa638ce7-0ba8-4b6f-82f5-e416d03958a3",
   "metadata": {},
   "outputs": [
    {
     "name": "stdout",
     "output_type": "stream",
     "text": [
      "Enter your age: "
     ]
    },
    {
     "name": "stdin",
     "output_type": "stream",
     "text": [
      " 12.5\n"
     ]
    },
    {
     "name": "stdout",
     "output_type": "stream",
     "text": [
      "'12.5' is not an integer.\n",
      "Enter your age: "
     ]
    },
    {
     "name": "stdin",
     "output_type": "stream",
     "text": [
      " 21\n"
     ]
    },
    {
     "name": "stdout",
     "output_type": "stream",
     "text": [
      "Enter your weight: "
     ]
    },
    {
     "name": "stdin",
     "output_type": "stream",
     "text": [
      " 20\n"
     ]
    },
    {
     "name": "stdout",
     "output_type": "stream",
     "text": [
      "I am 21 years of old and my weight is 20.0.\n"
     ]
    }
   ],
   "source": [
    "# example\n",
    "\n",
    "# Importing module\n",
    "import pyinputplus as pypi \n",
    "\n",
    "# Getting user input as integer\n",
    "age = pypi.inputInt(\"Enter your age: \")\n",
    "\n",
    "# Getting user input as float\n",
    "weight = pypi.inputFloat(\"Enter your weight: \") \n",
    "\n",
    "#Printing user input\n",
    "print(f\"I am {age} years of old and my weight is {weight}.\")"
   ]
  },
  {
   "cell_type": "markdown",
   "id": "9f0499a3-d168-427a-8f30-b807f945463c",
   "metadata": {},
   "source": [
    "# 4. Using PyInputPlus, how do you ensure that the user enters a whole number between 0 and 99?"
   ]
  },
  {
   "cell_type": "markdown",
   "id": "89d8af7c-29a3-48e4-8c51-be8bcfd1eda9",
   "metadata": {},
   "source": [
    "Ans:\\\n",
    "`PyInputPlus` module provides a function called as `inputInt()` which returns only integer values and inorder to restrict the input between 0 and 99, we have to use parameters like **min** & **max** to ensure that user enters the values between the defined ranges only.\n",
    "\n",
    "Example:"
   ]
  },
  {
   "cell_type": "code",
   "execution_count": 11,
   "id": "a1c538b5-3cf6-4986-82e1-208844f450d4",
   "metadata": {},
   "outputs": [
    {
     "name": "stdout",
     "output_type": "stream",
     "text": [
      "Enter your marks: "
     ]
    },
    {
     "name": "stdin",
     "output_type": "stream",
     "text": [
      " -1\n"
     ]
    },
    {
     "name": "stdout",
     "output_type": "stream",
     "text": [
      "Number must be at minimum 0.\n",
      "Enter your marks: "
     ]
    },
    {
     "name": "stdin",
     "output_type": "stream",
     "text": [
      " 0\n"
     ]
    },
    {
     "name": "stdout",
     "output_type": "stream",
     "text": [
      "Your Marks is  0\n"
     ]
    }
   ],
   "source": [
    "import pyinputplus as pypi\n",
    "\n",
    "stud_marks = pypi.inputInt(\"Enter your marks: \", min=0, max=99)\n",
    "print(\"Your Marks is \",stud_marks)"
   ]
  },
  {
   "cell_type": "markdown",
   "id": "0257bc62-9ef8-4e30-a621-3ae99ac269d9",
   "metadata": {},
   "source": [
    "# 5. What is transferred to the keyword arguments allowRegexes and blockRegexes?"
   ]
  },
  {
   "cell_type": "markdown",
   "id": "e1bda667-0fc1-41ad-9aa3-b8e6275e1744",
   "metadata": {},
   "source": [
    "Ans: \\\n",
    "`AllowRegexes`: The allowRegexes parameter is used to specify a list of regular expression patterns that are allowed in user input. If the user input matches any of the regular expressions specified in allowRegexes, then the input is considered valid and will be returned by the PyInputPlus function.\n",
    "\n",
    "`BlockRegexes`: The blockRegexes parameter is used to specify a list of regular expression patterns that are blocked in user input. If the user input matches any of the regular expressions specified in blockRegexes, then the input is considered invalid and PyInputPlus will reprompt the user until a valid input is provided."
   ]
  },
  {
   "cell_type": "code",
   "execution_count": 12,
   "id": "d5a6d5bf-8a08-4d1a-93ec-1b37a972cce4",
   "metadata": {},
   "outputs": [
    {
     "name": "stdout",
     "output_type": "stream",
     "text": [
      "Enter some text: "
     ]
    },
    {
     "name": "stdin",
     "output_type": "stream",
     "text": [
      " as1\n"
     ]
    },
    {
     "name": "stdout",
     "output_type": "stream",
     "text": [
      "You entered: as1\n"
     ]
    }
   ],
   "source": [
    "# Example\n",
    "\n",
    "import pyinputplus as pyip\n",
    "regex = [r'[A-Z]', r'\\d+']\n",
    "\n",
    "text = pyip.inputStr(prompt='Enter some text: ', allowRegexes=regex, blockRegexes=[r'[a-z]'])\n",
    "\n",
    "# We are only allowing either alphanumeric or Numeric characters\n",
    "print('You entered:', text)"
   ]
  },
  {
   "cell_type": "markdown",
   "id": "b9d930f6-c3a4-4a84-9168-d49c8f3b631a",
   "metadata": {},
   "source": [
    "# 6. If a blank input is entered three times, what does inputStr(limit=3) do?"
   ]
  },
  {
   "cell_type": "markdown",
   "id": "efc776f3-7b0e-4663-83f7-4ff645fec636",
   "metadata": {},
   "source": [
    "Ans: \\\n",
    "By giving `inputStr(limit=3)`, we only allow the user to type enter (blank input) upto 3 times. If that user enters more than 3 times, then it will raise an exception."
   ]
  },
  {
   "cell_type": "code",
   "execution_count": 14,
   "id": "4e68545a-6462-4ef8-be39-81974d6018b3",
   "metadata": {},
   "outputs": [
    {
     "name": "stdout",
     "output_type": "stream",
     "text": [
      "Enter text: "
     ]
    },
    {
     "name": "stdin",
     "output_type": "stream",
     "text": [
      " \n"
     ]
    },
    {
     "name": "stdout",
     "output_type": "stream",
     "text": [
      "Blank values are not allowed.\n",
      "Enter text: "
     ]
    },
    {
     "name": "stdin",
     "output_type": "stream",
     "text": [
      " \n"
     ]
    },
    {
     "name": "stdout",
     "output_type": "stream",
     "text": [
      "Blank values are not allowed.\n",
      "Enter text: "
     ]
    },
    {
     "name": "stdin",
     "output_type": "stream",
     "text": [
      " \n"
     ]
    },
    {
     "name": "stdout",
     "output_type": "stream",
     "text": [
      "Blank values are not allowed.\n"
     ]
    },
    {
     "ename": "RetryLimitException",
     "evalue": "",
     "output_type": "error",
     "traceback": [
      "\u001b[0;31m---------------------------------------------------------------------------\u001b[0m",
      "\u001b[0;31mValidationException\u001b[0m                       Traceback (most recent call last)",
      "File \u001b[0;32m/opt/conda/lib/python3.10/site-packages/pyinputplus/__init__.py:167\u001b[0m, in \u001b[0;36m_genericInput\u001b[0;34m(prompt, default, timeout, limit, applyFunc, validationFunc, postValidateApplyFunc, passwordMask)\u001b[0m\n\u001b[1;32m    166\u001b[0m \u001b[38;5;28;01mtry\u001b[39;00m:\n\u001b[0;32m--> 167\u001b[0m     possibleNewUserInput \u001b[38;5;241m=\u001b[39m \u001b[43mvalidationFunc\u001b[49m\u001b[43m(\u001b[49m\n\u001b[1;32m    168\u001b[0m \u001b[43m        \u001b[49m\u001b[43muserInput\u001b[49m\n\u001b[1;32m    169\u001b[0m \u001b[43m    \u001b[49m\u001b[43m)\u001b[49m  \u001b[38;5;66;03m# If validation fails, this function will raise an exception. Returns an updated value to use as user input (e.g. stripped of whitespace, etc.)\u001b[39;00m\n\u001b[1;32m    170\u001b[0m     \u001b[38;5;28;01mif\u001b[39;00m possibleNewUserInput \u001b[38;5;129;01mis\u001b[39;00m \u001b[38;5;129;01mnot\u001b[39;00m \u001b[38;5;28;01mNone\u001b[39;00m:\n",
      "File \u001b[0;32m/opt/conda/lib/python3.10/site-packages/pyinputplus/__init__.py:243\u001b[0m, in \u001b[0;36minputStr.<locals>.<lambda>\u001b[0;34m(value)\u001b[0m\n\u001b[1;32m    241\u001b[0m pysv\u001b[38;5;241m.\u001b[39m_validateGenericParameters(blank, strip, allowRegexes, blockRegexes)\n\u001b[0;32m--> 243\u001b[0m validationFunc \u001b[38;5;241m=\u001b[39m \u001b[38;5;28;01mlambda\u001b[39;00m value: \u001b[43mpysv\u001b[49m\u001b[38;5;241;43m.\u001b[39;49m\u001b[43m_prevalidationCheck\u001b[49m\u001b[43m(\u001b[49m\n\u001b[1;32m    244\u001b[0m \u001b[43m    \u001b[49m\u001b[43mvalue\u001b[49m\u001b[43m,\u001b[49m\u001b[43m \u001b[49m\u001b[43mblank\u001b[49m\u001b[38;5;241;43m=\u001b[39;49m\u001b[43mblank\u001b[49m\u001b[43m,\u001b[49m\u001b[43m \u001b[49m\u001b[43mstrip\u001b[49m\u001b[38;5;241;43m=\u001b[39;49m\u001b[43mstrip\u001b[49m\u001b[43m,\u001b[49m\u001b[43m \u001b[49m\u001b[43mallowRegexes\u001b[49m\u001b[38;5;241;43m=\u001b[39;49m\u001b[43mallowRegexes\u001b[49m\u001b[43m,\u001b[49m\u001b[43m \u001b[49m\u001b[43mblockRegexes\u001b[49m\u001b[38;5;241;43m=\u001b[39;49m\u001b[43mblockRegexes\u001b[49m\u001b[43m,\u001b[49m\u001b[43m \u001b[49m\u001b[43mexcMsg\u001b[49m\u001b[38;5;241;43m=\u001b[39;49m\u001b[38;5;28;43;01mNone\u001b[39;49;00m\u001b[43m,\u001b[49m\n\u001b[1;32m    245\u001b[0m \u001b[43m\u001b[49m\u001b[43m)\u001b[49m[\u001b[38;5;241m1\u001b[39m]\n\u001b[1;32m    247\u001b[0m \u001b[38;5;28;01mreturn\u001b[39;00m _genericInput(\n\u001b[1;32m    248\u001b[0m     prompt\u001b[38;5;241m=\u001b[39mprompt,\n\u001b[1;32m    249\u001b[0m     default\u001b[38;5;241m=\u001b[39mdefault,\n\u001b[0;32m   (...)\u001b[0m\n\u001b[1;32m    254\u001b[0m     validationFunc\u001b[38;5;241m=\u001b[39mvalidationFunc,\n\u001b[1;32m    255\u001b[0m )\n",
      "File \u001b[0;32m/opt/conda/lib/python3.10/site-packages/pysimplevalidate/__init__.py:250\u001b[0m, in \u001b[0;36m_prevalidationCheck\u001b[0;34m(value, blank, strip, allowRegexes, blockRegexes, excMsg)\u001b[0m\n\u001b[1;32m    248\u001b[0m \u001b[38;5;28;01mif\u001b[39;00m \u001b[38;5;129;01mnot\u001b[39;00m blank \u001b[38;5;129;01mand\u001b[39;00m value \u001b[38;5;241m==\u001b[39m \u001b[38;5;124m\"\u001b[39m\u001b[38;5;124m\"\u001b[39m:\n\u001b[1;32m    249\u001b[0m     \u001b[38;5;66;03m# value is blank but blanks aren't allowed.\u001b[39;00m\n\u001b[0;32m--> 250\u001b[0m     \u001b[43m_raiseValidationException\u001b[49m\u001b[43m(\u001b[49m\u001b[43m_\u001b[49m\u001b[43m(\u001b[49m\u001b[38;5;124;43m\"\u001b[39;49m\u001b[38;5;124;43mBlank values are not allowed.\u001b[39;49m\u001b[38;5;124;43m\"\u001b[39;49m\u001b[43m)\u001b[49m\u001b[43m,\u001b[49m\u001b[43m \u001b[49m\u001b[43mexcMsg\u001b[49m\u001b[43m)\u001b[49m\n\u001b[1;32m    251\u001b[0m \u001b[38;5;28;01melif\u001b[39;00m blank \u001b[38;5;129;01mand\u001b[39;00m value \u001b[38;5;241m==\u001b[39m \u001b[38;5;124m\"\u001b[39m\u001b[38;5;124m\"\u001b[39m:\n",
      "File \u001b[0;32m/opt/conda/lib/python3.10/site-packages/pysimplevalidate/__init__.py:222\u001b[0m, in \u001b[0;36m_raiseValidationException\u001b[0;34m(standardExcMsg, customExcMsg)\u001b[0m\n\u001b[1;32m    221\u001b[0m \u001b[38;5;28;01mif\u001b[39;00m customExcMsg \u001b[38;5;129;01mis\u001b[39;00m \u001b[38;5;28;01mNone\u001b[39;00m:\n\u001b[0;32m--> 222\u001b[0m     \u001b[38;5;28;01mraise\u001b[39;00m ValidationException(\u001b[38;5;28mstr\u001b[39m(standardExcMsg))\n\u001b[1;32m    223\u001b[0m \u001b[38;5;28;01melse\u001b[39;00m:\n",
      "\u001b[0;31mValidationException\u001b[0m: Blank values are not allowed.",
      "\nDuring handling of the above exception, another exception occurred:\n",
      "\u001b[0;31mRetryLimitException\u001b[0m                       Traceback (most recent call last)",
      "Cell \u001b[0;32mIn [14], line 4\u001b[0m\n\u001b[1;32m      1\u001b[0m \u001b[38;5;66;03m# Example\u001b[39;00m\n\u001b[1;32m      3\u001b[0m \u001b[38;5;28;01mimport\u001b[39;00m \u001b[38;5;21;01mpyinputplus\u001b[39;00m \u001b[38;5;28;01mas\u001b[39;00m \u001b[38;5;21;01mpypi\u001b[39;00m\n\u001b[0;32m----> 4\u001b[0m text \u001b[38;5;241m=\u001b[39m \u001b[43mpypi\u001b[49m\u001b[38;5;241;43m.\u001b[39;49m\u001b[43minputStr\u001b[49m\u001b[43m(\u001b[49m\u001b[38;5;124;43m\"\u001b[39;49m\u001b[38;5;124;43mEnter text: \u001b[39;49m\u001b[38;5;124;43m\"\u001b[39;49m\u001b[43m,\u001b[49m\u001b[43m \u001b[49m\u001b[43mlimit\u001b[49m\u001b[43m \u001b[49m\u001b[38;5;241;43m=\u001b[39;49m\u001b[43m \u001b[49m\u001b[38;5;241;43m3\u001b[39;49m\u001b[43m)\u001b[49m\n",
      "File \u001b[0;32m/opt/conda/lib/python3.10/site-packages/pyinputplus/__init__.py:247\u001b[0m, in \u001b[0;36minputStr\u001b[0;34m(prompt, default, blank, timeout, limit, strip, allowRegexes, blockRegexes, applyFunc, postValidateApplyFunc)\u001b[0m\n\u001b[1;32m    241\u001b[0m pysv\u001b[38;5;241m.\u001b[39m_validateGenericParameters(blank, strip, allowRegexes, blockRegexes)\n\u001b[1;32m    243\u001b[0m validationFunc \u001b[38;5;241m=\u001b[39m \u001b[38;5;28;01mlambda\u001b[39;00m value: pysv\u001b[38;5;241m.\u001b[39m_prevalidationCheck(\n\u001b[1;32m    244\u001b[0m     value, blank\u001b[38;5;241m=\u001b[39mblank, strip\u001b[38;5;241m=\u001b[39mstrip, allowRegexes\u001b[38;5;241m=\u001b[39mallowRegexes, blockRegexes\u001b[38;5;241m=\u001b[39mblockRegexes, excMsg\u001b[38;5;241m=\u001b[39m\u001b[38;5;28;01mNone\u001b[39;00m,\n\u001b[1;32m    245\u001b[0m )[\u001b[38;5;241m1\u001b[39m]\n\u001b[0;32m--> 247\u001b[0m \u001b[38;5;28;01mreturn\u001b[39;00m \u001b[43m_genericInput\u001b[49m\u001b[43m(\u001b[49m\n\u001b[1;32m    248\u001b[0m \u001b[43m    \u001b[49m\u001b[43mprompt\u001b[49m\u001b[38;5;241;43m=\u001b[39;49m\u001b[43mprompt\u001b[49m\u001b[43m,\u001b[49m\n\u001b[1;32m    249\u001b[0m \u001b[43m    \u001b[49m\u001b[43mdefault\u001b[49m\u001b[38;5;241;43m=\u001b[39;49m\u001b[43mdefault\u001b[49m\u001b[43m,\u001b[49m\n\u001b[1;32m    250\u001b[0m \u001b[43m    \u001b[49m\u001b[43mtimeout\u001b[49m\u001b[38;5;241;43m=\u001b[39;49m\u001b[43mtimeout\u001b[49m\u001b[43m,\u001b[49m\n\u001b[1;32m    251\u001b[0m \u001b[43m    \u001b[49m\u001b[43mlimit\u001b[49m\u001b[38;5;241;43m=\u001b[39;49m\u001b[43mlimit\u001b[49m\u001b[43m,\u001b[49m\n\u001b[1;32m    252\u001b[0m \u001b[43m    \u001b[49m\u001b[43mapplyFunc\u001b[49m\u001b[38;5;241;43m=\u001b[39;49m\u001b[43mapplyFunc\u001b[49m\u001b[43m,\u001b[49m\n\u001b[1;32m    253\u001b[0m \u001b[43m    \u001b[49m\u001b[43mpostValidateApplyFunc\u001b[49m\u001b[38;5;241;43m=\u001b[39;49m\u001b[43mpostValidateApplyFunc\u001b[49m\u001b[43m,\u001b[49m\n\u001b[1;32m    254\u001b[0m \u001b[43m    \u001b[49m\u001b[43mvalidationFunc\u001b[49m\u001b[38;5;241;43m=\u001b[39;49m\u001b[43mvalidationFunc\u001b[49m\u001b[43m,\u001b[49m\n\u001b[1;32m    255\u001b[0m \u001b[43m\u001b[49m\u001b[43m)\u001b[49m\n",
      "File \u001b[0;32m/opt/conda/lib/python3.10/site-packages/pyinputplus/__init__.py:188\u001b[0m, in \u001b[0;36m_genericInput\u001b[0;34m(prompt, default, timeout, limit, applyFunc, validationFunc, postValidateApplyFunc, passwordMask)\u001b[0m\n\u001b[1;32m    185\u001b[0m         \u001b[38;5;28;01mreturn\u001b[39;00m default\n\u001b[1;32m    186\u001b[0m     \u001b[38;5;28;01melse\u001b[39;00m:\n\u001b[1;32m    187\u001b[0m         \u001b[38;5;66;03m# If there is no default, then raise the timeout/limit exception.\u001b[39;00m\n\u001b[0;32m--> 188\u001b[0m         \u001b[38;5;28;01mraise\u001b[39;00m limitOrTimeoutException\n\u001b[1;32m    189\u001b[0m \u001b[38;5;28;01melse\u001b[39;00m:\n\u001b[1;32m    190\u001b[0m     \u001b[38;5;66;03m# If there was no timeout/limit exceeded, let the user enter input again.\u001b[39;00m\n\u001b[1;32m    191\u001b[0m     \u001b[38;5;28;01mcontinue\u001b[39;00m\n",
      "\u001b[0;31mRetryLimitException\u001b[0m: "
     ]
    }
   ],
   "source": [
    "# Example\n",
    "\n",
    "import pyinputplus as pypi\n",
    "text = pypi.inputStr(\"Enter text: \", limit = 3)"
   ]
  },
  {
   "cell_type": "markdown",
   "id": "7ab9feaf-6c2e-4ed3-84b1-758b13575fcc",
   "metadata": {},
   "source": [
    "# 7. If blank input is entered three times, what does inputStr(limit=3, default=&#39;hello&#39;) do?"
   ]
  },
  {
   "cell_type": "markdown",
   "id": "4706b9ce-d507-4652-bf35-706f8cdbb702",
   "metadata": {},
   "source": [
    "Ans: \\\n",
    "By giving `inputStr(limit=3, default='hello')`, we only allow the user to type enter (blank input) upto 2 times. If that user enters more than 2 times, then pypi will returns default string i.e., 'hello' in our case."
   ]
  },
  {
   "cell_type": "code",
   "execution_count": 16,
   "id": "d255afb0-1532-4a31-ad50-a7a72b42e20e",
   "metadata": {},
   "outputs": [
    {
     "name": "stdout",
     "output_type": "stream",
     "text": [
      "Enter text: "
     ]
    },
    {
     "name": "stdin",
     "output_type": "stream",
     "text": [
      " \n"
     ]
    },
    {
     "name": "stdout",
     "output_type": "stream",
     "text": [
      "Blank values are not allowed.\n",
      "Enter text: "
     ]
    },
    {
     "name": "stdin",
     "output_type": "stream",
     "text": [
      " \n"
     ]
    },
    {
     "name": "stdout",
     "output_type": "stream",
     "text": [
      "Blank values are not allowed.\n",
      "Enter text: "
     ]
    },
    {
     "name": "stdin",
     "output_type": "stream",
     "text": [
      " \n"
     ]
    },
    {
     "name": "stdout",
     "output_type": "stream",
     "text": [
      "Blank values are not allowed.\n",
      "hello\n"
     ]
    }
   ],
   "source": [
    "# Example\n",
    "\n",
    "import pyinputplus as pypi\n",
    "text = pypi.inputStr(\"Enter text: \", limit = 3, default='hello')\n",
    "print(text)"
   ]
  },
  {
   "cell_type": "code",
   "execution_count": null,
   "id": "5e96f6df-55ec-44aa-95cc-19b9377b7be5",
   "metadata": {},
   "outputs": [],
   "source": []
  }
 ],
 "metadata": {
  "kernelspec": {
   "display_name": "Python 3 (ipykernel)",
   "language": "python",
   "name": "python3"
  },
  "language_info": {
   "codemirror_mode": {
    "name": "ipython",
    "version": 3
   },
   "file_extension": ".py",
   "mimetype": "text/x-python",
   "name": "python",
   "nbconvert_exporter": "python",
   "pygments_lexer": "ipython3",
   "version": "3.10.6"
  }
 },
 "nbformat": 4,
 "nbformat_minor": 5
}
